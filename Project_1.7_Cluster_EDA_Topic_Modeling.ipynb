{
 "cells": [
  {
   "cell_type": "code",
   "execution_count": 39,
   "metadata": {
    "colab": {
     "base_uri": "https://localhost:8080/",
     "height": 368
    },
    "executionInfo": {
     "elapsed": 3121,
     "status": "error",
     "timestamp": 1639055837087,
     "user": {
      "displayName": "Sushant Jha",
      "photoUrl": "https://lh3.googleusercontent.com/a-/AOh14GhfVZzut1BxrOm8ZD-bXzHpPGlSSZsH1LSKHeSh=s64",
      "userId": "12473226778518986853"
     },
     "user_tz": 300
    },
    "id": "7eZhJPklVZOR",
    "outputId": "a49f9acf-ff24-4e09-e944-e89284d98fa1"
   },
   "outputs": [],
   "source": [
    "import warnings; warnings.simplefilter('ignore')\n",
    "\n",
    "#libraries for data manipulation/cleaning\n",
    "import pandas as pd\n",
    "import json\n",
    "import numpy as np\n",
    "import datetime\n",
    "import re\n",
    "from datetime import time\n",
    "import gzip\n",
    "\n",
    "#libraries for data visualization\n",
    "import matplotlib.pyplot as plt\n",
    "import seaborn as sns\n",
    "import wordcloud\n",
    "from operator import itemgetter\n",
    "\n",
    "\n",
    "#importing libraries for vectorization of the nominal features\n",
    "from sklearn.feature_extraction.text import CountVectorizer\n",
    "from sklearn.preprocessing import LabelEncoder \n",
    "from sklearn.feature_extraction.text import TfidfVectorizer\n",
    "from nltk.stem.snowball import SnowballStemmer #for stemming \n",
    "\n",
    "#Data Cleaning\n",
    "import gensim\n",
    "import nltk\n",
    "import contractions\n",
    "#contractions is hard to install, use 'pip install contractions==0.0.18'\n",
    "\n",
    "from nltk import word_tokenize\n",
    "from nltk.tokenize import RegexpTokenizer\n",
    "from nltk.stem import WordNetLemmatizer\n",
    "from nltk.corpus import wordnet\n",
    "from nltk.tokenize import RegexpTokenizer\n",
    "from nltk.corpus import stopwords\n",
    "#from stop_words import get_stop_words\n",
    "from nltk.stem.snowball import SnowballStemmer\n",
    "from gensim import corpora\n",
    "from autocorrect import Speller\n",
    "\n",
    "#Dimensionality reduction techniques\n",
    "from sklearn.decomposition import PCA\n",
    "from sklearn.decomposition import TruncatedSVD\n",
    "from sklearn.manifold import TSNE\n",
    "\n",
    "#3d visualization of PCA\n",
    "from mpl_toolkits import mplot3d\n",
    "\n",
    "#Clustering and Clustering Scoring\n",
    "from sklearn.cluster import KMeans\n",
    "from sklearn.mixture import GaussianMixture\n",
    "from sklearn.cluster import AgglomerativeClustering\n",
    "from sklearn.cluster import DBSCAN\n",
    "import scipy.cluster.hierarchy as hc\n",
    "from sklearn.metrics import silhouette_score\n",
    "from sklearn.metrics import calinski_harabasz_score\n",
    "\n",
    "#Topic Modeling\n",
    "from gensim.models import LsiModel, CoherenceModel, LdaModel, Phrases\n",
    "import pyLDAvis\n",
    "import pyLDAvis.gensim_models\n",
    "from collections import Counter\n",
    "from scipy.sparse import csr_matrix\n",
    "from gensim.matutils import Sparse2Corpus\n",
    "from gensim.parsing.preprocessing import remove_stopwords\n",
    "\n",
    "#pickling data\n",
    "import pickle\n",
    "\n",
    "lemmatizer = nltk.stem.WordNetLemmatizer()\n",
    "wordnet_lemmatizer = WordNetLemmatizer()"
   ]
  },
  {
   "cell_type": "markdown",
   "metadata": {
    "id": "i_-H_qTqVZOU"
   },
   "source": [
    "# EDA Inspection of data\n",
    "## Once we load in the data, what does the raw data look like? Important pieces about the data selected include that it is a parsed down version of only products which have 5 reviews or more given by people who have written 5 reviews or more. This is a basic, but imperative step to ensuring that we do not have products that are light on data to analyze."
   ]
  },
  {
   "cell_type": "code",
   "execution_count": 6,
   "metadata": {
    "id": "LnzQqF7mVZOU",
    "outputId": "30e211be-dcfd-433a-f350-937a37bde73f"
   },
   "outputs": [
    {
     "data": {
      "text/html": [
       "<div>\n",
       "<style scoped>\n",
       "    .dataframe tbody tr th:only-of-type {\n",
       "        vertical-align: middle;\n",
       "    }\n",
       "\n",
       "    .dataframe tbody tr th {\n",
       "        vertical-align: top;\n",
       "    }\n",
       "\n",
       "    .dataframe thead th {\n",
       "        text-align: right;\n",
       "    }\n",
       "</style>\n",
       "<table border=\"1\" class=\"dataframe\">\n",
       "  <thead>\n",
       "    <tr style=\"text-align: right;\">\n",
       "      <th></th>\n",
       "      <th>overall</th>\n",
       "      <th>verified</th>\n",
       "      <th>reviewTime</th>\n",
       "      <th>reviewerID</th>\n",
       "      <th>asin</th>\n",
       "      <th>style</th>\n",
       "      <th>reviewerName</th>\n",
       "      <th>reviewText</th>\n",
       "      <th>summary</th>\n",
       "      <th>unixReviewTime</th>\n",
       "      <th>vote</th>\n",
       "      <th>image</th>\n",
       "    </tr>\n",
       "  </thead>\n",
       "  <tbody>\n",
       "    <tr>\n",
       "      <th>0</th>\n",
       "      <td>4</td>\n",
       "      <td>True</td>\n",
       "      <td>06 7, 2014</td>\n",
       "      <td>AOZODD6LS3IGJ</td>\n",
       "      <td>B005FV9YD8</td>\n",
       "      <td>NaN</td>\n",
       "      <td>okbye</td>\n",
       "      <td>It gives a 5 star performance most of the time...</td>\n",
       "      <td>Works great, just ordered 2 more</td>\n",
       "      <td>1402099200</td>\n",
       "      <td>NaN</td>\n",
       "      <td>NaN</td>\n",
       "    </tr>\n",
       "    <tr>\n",
       "      <th>1</th>\n",
       "      <td>4</td>\n",
       "      <td>False</td>\n",
       "      <td>03 27, 2015</td>\n",
       "      <td>A2KZH1QYHRJRB7</td>\n",
       "      <td>B00J5UUD3K</td>\n",
       "      <td>NaN</td>\n",
       "      <td>Proper Bostonian</td>\n",
       "      <td>This is the larger Staples Arc notebook system...</td>\n",
       "      <td>Great For Class!</td>\n",
       "      <td>1427414400</td>\n",
       "      <td>2</td>\n",
       "      <td>NaN</td>\n",
       "    </tr>\n",
       "    <tr>\n",
       "      <th>2</th>\n",
       "      <td>4</td>\n",
       "      <td>True</td>\n",
       "      <td>01 17, 2016</td>\n",
       "      <td>A2FZCZBN5MXEVX</td>\n",
       "      <td>B0092KZ94G</td>\n",
       "      <td>NaN</td>\n",
       "      <td>ThinkFirst</td>\n",
       "      <td>This shredder is a tremendous improvement over...</td>\n",
       "      <td>A very good shredder</td>\n",
       "      <td>1452988800</td>\n",
       "      <td>NaN</td>\n",
       "      <td>NaN</td>\n",
       "    </tr>\n",
       "    <tr>\n",
       "      <th>3</th>\n",
       "      <td>5</td>\n",
       "      <td>True</td>\n",
       "      <td>10 19, 2014</td>\n",
       "      <td>A3059VXKT8K2C2</td>\n",
       "      <td>B005BZNE2K</td>\n",
       "      <td>NaN</td>\n",
       "      <td>Algomobo</td>\n",
       "      <td>LOVE IT</td>\n",
       "      <td>Five Stars</td>\n",
       "      <td>1413676800</td>\n",
       "      <td>NaN</td>\n",
       "      <td>NaN</td>\n",
       "    </tr>\n",
       "    <tr>\n",
       "      <th>4</th>\n",
       "      <td>5</td>\n",
       "      <td>True</td>\n",
       "      <td>03 12, 2014</td>\n",
       "      <td>AIP6MBCJ1JC1M</td>\n",
       "      <td>B001HA9FCG</td>\n",
       "      <td>{'Color:': ' Color May Vary'}</td>\n",
       "      <td>Susan</td>\n",
       "      <td>Works great on getting all the marks off my bo...</td>\n",
       "      <td>love this dry erase eraser</td>\n",
       "      <td>1394582400</td>\n",
       "      <td>NaN</td>\n",
       "      <td>NaN</td>\n",
       "    </tr>\n",
       "  </tbody>\n",
       "</table>\n",
       "</div>"
      ],
      "text/plain": [
       "   overall  verified   reviewTime      reviewerID        asin  \\\n",
       "0        4      True   06 7, 2014   AOZODD6LS3IGJ  B005FV9YD8   \n",
       "1        4     False  03 27, 2015  A2KZH1QYHRJRB7  B00J5UUD3K   \n",
       "2        4      True  01 17, 2016  A2FZCZBN5MXEVX  B0092KZ94G   \n",
       "3        5      True  10 19, 2014  A3059VXKT8K2C2  B005BZNE2K   \n",
       "4        5      True  03 12, 2014   AIP6MBCJ1JC1M  B001HA9FCG   \n",
       "\n",
       "                           style      reviewerName  \\\n",
       "0                            NaN             okbye   \n",
       "1                            NaN  Proper Bostonian   \n",
       "2                            NaN        ThinkFirst   \n",
       "3                            NaN          Algomobo   \n",
       "4  {'Color:': ' Color May Vary'}             Susan   \n",
       "\n",
       "                                          reviewText  \\\n",
       "0  It gives a 5 star performance most of the time...   \n",
       "1  This is the larger Staples Arc notebook system...   \n",
       "2  This shredder is a tremendous improvement over...   \n",
       "3                                            LOVE IT   \n",
       "4  Works great on getting all the marks off my bo...   \n",
       "\n",
       "                            summary  unixReviewTime vote image  \n",
       "0  Works great, just ordered 2 more      1402099200  NaN   NaN  \n",
       "1                  Great For Class!      1427414400    2   NaN  \n",
       "2              A very good shredder      1452988800  NaN   NaN  \n",
       "3                        Five Stars      1413676800  NaN   NaN  \n",
       "4        love this dry erase eraser      1394582400  NaN   NaN  "
      ]
     },
     "execution_count": 6,
     "metadata": {},
     "output_type": "execute_result"
    }
   ],
   "source": [
    "office_prods_orig = pd.read_json('Office_Products_5.json', lines = True)\n",
    "office_prods = office_prods_orig.sample(100000, weights='overall', random_state=0).reset_index(drop=True)\n",
    "office_prods.head()"
   ]
  },
  {
   "cell_type": "markdown",
   "metadata": {
    "id": "764GWbPDVZOV"
   },
   "source": [
    "### Here is examining the reviews and what their average rating is. We found that reviews tended to skew higher since naturally, highly reviewed products would sell well and therefore survive existing on amazon."
   ]
  },
  {
   "cell_type": "code",
   "execution_count": null,
   "metadata": {
    "id": "yc_HTzYYVZOV",
    "outputId": "d5af78b5-5d9b-47ba-cab8-e9f59d3c23a2"
   },
   "outputs": [
    {
     "data": {
      "image/png": "[encoded data removed]",
      "text/plain": [
       "<Figure size 432x288 with 1 Axes>"
      ]
     },
     "metadata": {
      "needs_background": "light"
     },
     "output_type": "display_data"
    }
   ],
   "source": [
    "# Visualization of the number of reviews posted for each star review (from 1 to 5)\n",
    "%matplotlib inline\n",
    "office_prods['overall'].value_counts().plot(kind = 'bar')\n",
    "plt.xlabel('Review in stars')\n",
    "plt.ylabel('Number of reviews')\n",
    "plt.title('Substantially higher number of \"good\" reviews')\n",
    "plt.xticks(rotation = 0)\n",
    "plt.show()"
   ]
  },
  {
   "cell_type": "markdown",
   "metadata": {
    "id": "S_Jk4xQ7VZOV"
   },
   "source": [
    "### A second notion is that it is important to ensure that reviews are verified. Verified reviews would be reviews that have been checked as legitimate by Amazon. We ended up keeping verified and non-verified reviews."
   ]
  },
  {
   "cell_type": "code",
   "execution_count": null,
   "metadata": {
    "id": "ahn9VNdNVZOW",
    "outputId": "3a015060-0c85-46d5-b0ed-fc09de93f2b9"
   },
   "outputs": [
    {
     "data": {
      "image/png": "[encoded data removed]",
      "text/plain": [
       "<Figure size 432x288 with 1 Axes>"
      ]
     },
     "metadata": {
      "needs_background": "light"
     },
     "output_type": "display_data"
    },
    {
     "data": {
      "text/plain": [
       "True     89231\n",
       "False    10769\n",
       "Name: verified, dtype: int64"
      ]
     },
     "execution_count": 4,
     "metadata": {},
     "output_type": "execute_result"
    }
   ],
   "source": [
    "# Visualization of the number of reviews verified\n",
    "%matplotlib inline\n",
    "office_prods['verified'].value_counts().plot(kind = 'bar')\n",
    "plt.xlabel('Verification status')\n",
    "plt.ylabel('Number of reviews in the corresponding category')\n",
    "plt.title('Most of the reviews fall under the verified category')\n",
    "plt.xticks(rotation = 0)\n",
    "plt.show()\n",
    "office_prods['verified'].value_counts() #90170 unverified reviews "
   ]
  },
  {
   "cell_type": "code",
   "execution_count": null,
   "metadata": {
    "id": "5UPCDPEgVZOW"
   },
   "outputs": [],
   "source": [
    "# Not sure how to describe the relevance of having unique reviewers but provided the code here\n",
    "#(len(office_prods['reviewerID'].unique())/office_prods.shape[0])*100"
   ]
  },
  {
   "cell_type": "markdown",
   "metadata": {
    "id": "CDLugKLVVZOW"
   },
   "source": [
    "## Data Cleaning\n",
    "* deleting duplicate reviews\n",
    "* applying stemming via SnowballStemmer nltk (natural language tool kit)\n",
    "* expanding contractions ie don't is now do not\n",
    "* removing stop words\n",
    "* performing lemmatization on adjectives, verbs, nouns, and adverbs. \n",
    "* Incorporating phrases to further clean and identify elements of topics more accurately"
   ]
  },
  {
   "cell_type": "markdown",
   "metadata": {
    "id": "GUjNr5kJVZOW"
   },
   "source": [
    "### Here we are lowercasing all words, removing numbers, stemming words, removing stop words (and words we found to not be helpful), expanding out contractions and removing punctuation."
   ]
  },
  {
   "cell_type": "code",
   "execution_count": 7,
   "metadata": {
    "id": "qy-dnD2TVZOX"
   },
   "outputs": [],
   "source": [
    "def clean_words(df, misc_words):\n",
    "    df = df[df['reviewText'].notnull()]\n",
    "    df['reviewText'].dropna(inplace=True)\n",
    "    #  apply lowercase\n",
    "    df['reviewText'] = df['reviewText'].str.lower()\n",
    "\n",
    "    # Removing numbers\n",
    "    df['reviewText'] = df['reviewText'].apply(lambda x: re.sub(r'[0-9]', '', x))\n",
    "\n",
    "    # Contractions\n",
    "    df['no_contract'] = df['reviewText'].apply(lambda x: [contractions.fix(word) for word in x.split()])\n",
    "    df['reviewText'] = [' '.join(map(str, l)) for l in df['no_contract']]\n",
    "    df.drop(columns = 'no_contract', inplace = True)\n",
    "\n",
    "    #  Remove the recurring unnecessary words like love, good, great seen in later analysis\n",
    "    stop_words = stopwords.words('english')\n",
    "    df['reviewText'] = df['reviewText'].apply(lambda x: [word for word in x.split() if word not in stop_words])\n",
    "    df['reviewText'] = df['reviewText'].apply(lambda x: [word for word in x if word not in misc_words])\n",
    "\n",
    "    \n",
    "    #  Using only english words and replacing unknown words with 'UNK'\n",
    "    #english_language = set(nltk.corpus.words.words())\n",
    "    #df['reviewText'] = df['reviewText'].apply(lambda x: ' '.join(w if w in english_language or not w.isalpha() else \"UNK\" for w in nltk.wordpunct_tokenize(x)))\n",
    "    \n",
    "    # Lemmatizing\n",
    "    df['reviewText'] = df['reviewText'].apply(lambda x: [lemmatizer.lemmatize(word) for word in x])\n",
    "\n",
    "    # Stemming data\n",
    "    #stemmer = SnowballStemmer('english')\n",
    "    #df['reviewText'] = df['reviewText'].apply(lambda x: [stemmer.stem(word) for word in x])\n",
    "\n",
    "    #  Remove the recurring unnecessary words like love, good, great seen in later analysis\n",
    "    df['reviewText'] = df['reviewText'].apply(lambda x: [word.lower() for word in x if word.lower() not in stop_words])\n",
    "    df['reviewText'] = df['reviewText'].apply(lambda x: \" \".join([word for word in x if word not in misc_words]))\n",
    "\n",
    "    #  tokenize the text and remove punctuation\n",
    "    tokenizer = RegexpTokenizer(r'[A-Za-z]+')\n",
    "    df['no_punctuation'] = df['reviewText'].apply(lambda x: tokenizer.tokenize(x))\n",
    "    df['reviewText'] = [' '.join(map(str, l)) for l in df['no_punctuation']]\n",
    "                                              \n",
    "    \n",
    "    return df"
   ]
  },
  {
   "cell_type": "code",
   "execution_count": 8,
   "metadata": {
    "id": "VteZuw4MVZOX"
   },
   "outputs": [],
   "source": [
    "office_prods = office_prods_orig.sample(50000, weights='overall', random_state=0).reset_index(drop=True)\n",
    "# words that are not helpful\n",
    "misc_words = ['love', 'great', 'good', 'can', 'would', 'like', 'work', 'recommend', 'much', 'better', 'highly', 'a']"
   ]
  },
  {
   "cell_type": "code",
   "execution_count": null,
   "metadata": {
    "id": "KDzyxU15VZOX"
   },
   "outputs": [],
   "source": [
    "office_prods.to_clipboard()"
   ]
  },
  {
   "cell_type": "code",
   "execution_count": 9,
   "metadata": {
    "id": "K2IbOl_UVZOX",
    "outputId": "926a3e9c-88e1-4f45-8f89-99c772c42192"
   },
   "outputs": [
    {
     "data": {
      "text/plain": [
       "0        give star performance time light button little...\n",
       "1        larger staple arc notebook system taking note ...\n",
       "2        shredder tremendous improvement several i ve t...\n",
       "3                                                         \n",
       "4        getting mark board quickly easily hammer nail ...\n",
       "                               ...                        \n",
       "49995    pens need color coding work i m pleased arrive...\n",
       "49996    finished annual letter using paper delivers me...\n",
       "49997    shredder everything say is two overstuffed box...\n",
       "49998    difficult get excited paper unless talking hea...\n",
       "49999    marker write bold beautiful color last long ti...\n",
       "Name: reviewText, Length: 49986, dtype: object"
      ]
     },
     "execution_count": 9,
     "metadata": {},
     "output_type": "execute_result"
    }
   ],
   "source": [
    "office_prods = clean_words(office_prods, misc_words)\n",
    "office_prods['reviewText']\n"
   ]
  },
  {
   "cell_type": "markdown",
   "metadata": {
    "id": "AKVNzJKLVZOX"
   },
   "source": [
    "### The tfidf vectorizer package is utilized to apply normalization to our review text as well as vectorize each review. Here we also are using a minimum number of documents for a word to appear. This is to further reduce the dimensions before applying tdidf to our review text. Finally, the review tokens are generated which will be used to support a dictionary."
   ]
  },
  {
   "cell_type": "code",
   "execution_count": 10,
   "metadata": {
    "id": "6cJEzH1CVZOY",
    "outputId": "fc412eab-c6b7-42c6-a410-e943802b6a1a"
   },
   "outputs": [
    {
     "name": "stdout",
     "output_type": "stream",
     "text": [
      "(49986, 354)\n"
     ]
    }
   ],
   "source": [
    "#  vectorize the review text data\n",
    "\n",
    "#  remove words that occur in less than 1% documents by setting the min_df parameter\n",
    "min_df = int(0.01 * len(office_prods))\n",
    "\n",
    "#  vectorize using tfidf\n",
    "vectorizer = TfidfVectorizer(min_df=min_df) #  , stop_words = 'english', token_pattern=u'(?ui)\\\\b\\\\w*[a-z]+\\\\w*\\\\b'\n",
    "tfidf = vectorizer.fit_transform(office_prods['reviewText'])\n",
    "tfidf = pd.DataFrame(tfidf.toarray(), columns=vectorizer.get_feature_names())\n",
    "print(tfidf.shape)\n",
    "\n",
    "#  Get list of tokens from the reviews\n",
    "office_prods = office_prods.reset_index(drop=True)\n",
    "reviews_tokens = office_prods['no_punctuation']\n",
    "\n",
    "\n"
   ]
  },
  {
   "cell_type": "code",
   "execution_count": 11,
   "metadata": {
    "id": "clCaB0QHVZOY",
    "outputId": "3b4daecd-8435-46c5-b75a-c0c38016424a"
   },
   "outputs": [
    {
     "data": {
      "text/plain": [
       "354"
      ]
     },
     "execution_count": 11,
     "metadata": {},
     "output_type": "execute_result"
    }
   ],
   "source": [
    "len(vectorizer.vocabulary_)"
   ]
  },
  {
   "cell_type": "code",
   "execution_count": 12,
   "metadata": {
    "id": "CrpkcNahVZOY",
    "outputId": "fb6698c8-f445-4a9a-b582-fc12f2951135"
   },
   "outputs": [
    {
     "data": {
      "text/plain": [
       "0        [give, star, performance, time, light, button,...\n",
       "1        [larger, staple, arc, notebook, system, taking...\n",
       "2        [shredder, tremendous, improvement, several, i...\n",
       "3                                                       []\n",
       "4        [getting, mark, board, quickly, easily, hammer...\n",
       "                               ...                        \n",
       "49981    [pens, need, color, coding, work, i, m, please...\n",
       "49982    [finished, annual, letter, using, paper, deliv...\n",
       "49983    [shredder, everything, say, is, two, overstuff...\n",
       "49984    [difficult, get, excited, paper, unless, talki...\n",
       "49985    [marker, write, bold, beautiful, color, last, ...\n",
       "Name: no_punctuation, Length: 49986, dtype: object"
      ]
     },
     "execution_count": 12,
     "metadata": {},
     "output_type": "execute_result"
    }
   ],
   "source": [
    "reviews_tokens\n"
   ]
  },
  {
   "cell_type": "markdown",
   "metadata": {
    "id": "2_b2JOFdVZOY"
   },
   "source": [
    "### Retrieve the phrases that are associated in topics like 'easy carry around' for instance"
   ]
  },
  {
   "cell_type": "code",
   "execution_count": null,
   "metadata": {
    "id": "YJFwPpLmVZOY"
   },
   "outputs": [],
   "source": [
    "#tokens = data['tokens'].tolist()\n",
    "bigram_model = Phrases(reviews_tokens)\n",
    "trigram_model = Phrases(bigram_model[reviews_tokens], min_count=1)\n",
    "reviews_tokens_n_grams = list(trigram_model[bigram_model[reviews_tokens]])"
   ]
  },
  {
   "cell_type": "code",
   "execution_count": null,
   "metadata": {
    "id": "fi18BA8GVZOY",
    "outputId": "617335f9-c3e8-4a1f-da20-071322f751d5"
   },
   "outputs": [
    {
     "data": {
      "text/plain": [
       "49981    [pens, need, color, coding, work, pleased, arr...\n",
       "49982    [finished, annual, letter, using, paper, deliv...\n",
       "49983    [shredder, everything, say, is, two, overstuff...\n",
       "49984    [difficult, get, excited, paper, unless, talki...\n",
       "49985    [marker, write, bold, beautiful, color, last, ...\n",
       "Name: no_punctuation, dtype: object"
      ]
     },
     "execution_count": 15,
     "metadata": {},
     "output_type": "execute_result"
    }
   ],
   "source": [
    "reviews_tokens[-5:]"
   ]
  },
  {
   "cell_type": "code",
   "execution_count": null,
   "metadata": {
    "id": "jTQD2TZEVZOZ",
    "outputId": "d2903a61-9ae6-4cae-a3bf-79bb2297907b",
    "scrolled": true
   },
   "outputs": [
    {
     "data": {
      "image/png": "[encoded data removed]",
      "text/plain": [
       "<Figure size 432x288 with 1 Axes>"
      ]
     },
     "metadata": {
      "needs_background": "light"
     },
     "output_type": "display_data"
    }
   ],
   "source": [
    "#  Bigrams\n",
    "\n",
    "length = 2\n",
    "bigrams = []\n",
    "\n",
    "for review in reviews_tokens:\n",
    "    for i in range(length, len(review)):\n",
    "        bigram = review[i - length: i]\n",
    "        line = \" \".join(bigram)\n",
    "        bigrams.append(bigram)\n",
    "\n",
    "bigrams = Counter(tuple(bigram) for bigram in iter(bigrams))\n",
    "\n",
    "#  Get bigrams that occur more than 100 times / Top 10 bigrams\n",
    "newDict = dict()\n",
    "# Iterate over all (k,v) pairs in names\n",
    "for key, value in bigrams.items():\n",
    "    # Is condition satisfied?\n",
    "    if value > 400:\n",
    "        newDict[key] = value\n",
    "\n",
    "#  Plot bigrams\n",
    "\n",
    "lists = sorted(newDict.items(), key=lambda item: item[1]) # sorted by key, return a list of tuples\n",
    "\n",
    "x, y = zip(*lists) # unpack a list of pairs into two tuples\n",
    "\n",
    "x = [\" \".join(bigram) for bigram in x]\n",
    "y = np.array(y)\n",
    "\n",
    "%matplotlib inline\n",
    "plt.barh(np.arange(len(x)), y, tick_label=x)\n",
    "plt.show()\n"
   ]
  },
  {
   "cell_type": "code",
   "execution_count": null,
   "metadata": {
    "id": "DrLNNlD9VZOZ"
   },
   "outputs": [],
   "source": [
    "# #  Trigrams\n",
    "\n",
    "# length = 3\n",
    "# trigrams = []\n",
    "\n",
    "# for review in reviews_tokens:\n",
    "#     for i in range(length, len(review)):\n",
    "#         trigram = review[i - length: i]\n",
    "#         line = \" \".join(trigram)\n",
    "#         trigrams.append(trigram)\n",
    "\n",
    "# trigrams = Counter(tuple(trigram) for trigram in iter(trigrams))\n",
    "\n",
    "\n",
    "# #  Get bigrams that occur more than 100 times / Top 10 bigrams\n",
    "# newDict = dict()\n",
    "# # Iterate over all (k,v) pairs in names\n",
    "# for key, value in trigrams.items():\n",
    "#     # Is condition satisfied?\n",
    "#     if value > 40:\n",
    "#         newDict[key] = value\n",
    "\n",
    "# #  Plot bigrams\n",
    "\n",
    "\n",
    "# lists = sorted(newDict.items(), key=lambda item: item[1]) # sorted by key, return a list of tuples\n",
    "\n",
    "# x, y = zip(*lists) # unpack a list of pairs into two tuples\n",
    "\n",
    "# x = [\" \".join(trigram) for trigram in x]\n",
    "# y = np.array(y)\n",
    "\n",
    "# %matplotlib inline\n",
    "# plt.barh(np.arange(len(x)), y, tick_label=x)\n",
    "# plt.show()"
   ]
  },
  {
   "cell_type": "markdown",
   "metadata": {
    "id": "8BjVpMGdVZOZ"
   },
   "source": [
    "# Dimensionality Reduction and Clustering Analysis"
   ]
  },
  {
   "cell_type": "markdown",
   "metadata": {
    "id": "YelkFcqxVZOZ"
   },
   "source": [
    "#### PCA - from above, we use words_token, vectorized dataframe for dimensionality reduction"
   ]
  },
  {
   "cell_type": "code",
   "execution_count": null,
   "metadata": {
    "id": "pGuTsrA6VZOZ",
    "outputId": "debdb387-253c-4869-eb22-6eb8e2b7bfe6"
   },
   "outputs": [
    {
     "data": {
      "text/html": [
       "<div>\n",
       "<style scoped>\n",
       "    .dataframe tbody tr th:only-of-type {\n",
       "        vertical-align: middle;\n",
       "    }\n",
       "\n",
       "    .dataframe tbody tr th {\n",
       "        vertical-align: top;\n",
       "    }\n",
       "\n",
       "    .dataframe thead th {\n",
       "        text-align: right;\n",
       "    }\n",
       "</style>\n",
       "<table border=\"1\" class=\"dataframe\">\n",
       "  <thead>\n",
       "    <tr style=\"text-align: right;\">\n",
       "      <th></th>\n",
       "      <th>able</th>\n",
       "      <th>actually</th>\n",
       "      <th>add</th>\n",
       "      <th>advertised</th>\n",
       "      <th>again</th>\n",
       "      <th>all</th>\n",
       "      <th>almost</th>\n",
       "      <th>already</th>\n",
       "      <th>also</th>\n",
       "      <th>although</th>\n",
       "      <th>...</th>\n",
       "      <th>worked</th>\n",
       "      <th>working</th>\n",
       "      <th>worth</th>\n",
       "      <th>write</th>\n",
       "      <th>writes</th>\n",
       "      <th>writing</th>\n",
       "      <th>year</th>\n",
       "      <th>years</th>\n",
       "      <th>yet</th>\n",
       "      <th>you</th>\n",
       "    </tr>\n",
       "  </thead>\n",
       "  <tbody>\n",
       "    <tr>\n",
       "      <th>0</th>\n",
       "      <td>0.0</td>\n",
       "      <td>0.0</td>\n",
       "      <td>0.000000</td>\n",
       "      <td>0.0</td>\n",
       "      <td>0.0</td>\n",
       "      <td>0.0</td>\n",
       "      <td>0.0</td>\n",
       "      <td>0.0</td>\n",
       "      <td>0.0</td>\n",
       "      <td>0.0</td>\n",
       "      <td>...</td>\n",
       "      <td>0.0</td>\n",
       "      <td>0.0</td>\n",
       "      <td>0.0</td>\n",
       "      <td>0.0</td>\n",
       "      <td>0.0</td>\n",
       "      <td>0.0</td>\n",
       "      <td>0.0</td>\n",
       "      <td>0.0</td>\n",
       "      <td>0.0</td>\n",
       "      <td>0.0</td>\n",
       "    </tr>\n",
       "    <tr>\n",
       "      <th>1</th>\n",
       "      <td>0.0</td>\n",
       "      <td>0.0</td>\n",
       "      <td>0.167398</td>\n",
       "      <td>0.0</td>\n",
       "      <td>0.0</td>\n",
       "      <td>0.0</td>\n",
       "      <td>0.0</td>\n",
       "      <td>0.0</td>\n",
       "      <td>0.0</td>\n",
       "      <td>0.0</td>\n",
       "      <td>...</td>\n",
       "      <td>0.0</td>\n",
       "      <td>0.0</td>\n",
       "      <td>0.0</td>\n",
       "      <td>0.0</td>\n",
       "      <td>0.0</td>\n",
       "      <td>0.0</td>\n",
       "      <td>0.0</td>\n",
       "      <td>0.0</td>\n",
       "      <td>0.0</td>\n",
       "      <td>0.0</td>\n",
       "    </tr>\n",
       "    <tr>\n",
       "      <th>2</th>\n",
       "      <td>0.0</td>\n",
       "      <td>0.0</td>\n",
       "      <td>0.000000</td>\n",
       "      <td>0.0</td>\n",
       "      <td>0.0</td>\n",
       "      <td>0.0</td>\n",
       "      <td>0.0</td>\n",
       "      <td>0.0</td>\n",
       "      <td>0.0</td>\n",
       "      <td>0.0</td>\n",
       "      <td>...</td>\n",
       "      <td>0.0</td>\n",
       "      <td>0.0</td>\n",
       "      <td>0.0</td>\n",
       "      <td>0.0</td>\n",
       "      <td>0.0</td>\n",
       "      <td>0.0</td>\n",
       "      <td>0.0</td>\n",
       "      <td>0.0</td>\n",
       "      <td>0.0</td>\n",
       "      <td>0.0</td>\n",
       "    </tr>\n",
       "    <tr>\n",
       "      <th>3</th>\n",
       "      <td>0.0</td>\n",
       "      <td>0.0</td>\n",
       "      <td>0.000000</td>\n",
       "      <td>0.0</td>\n",
       "      <td>0.0</td>\n",
       "      <td>0.0</td>\n",
       "      <td>0.0</td>\n",
       "      <td>0.0</td>\n",
       "      <td>0.0</td>\n",
       "      <td>0.0</td>\n",
       "      <td>...</td>\n",
       "      <td>0.0</td>\n",
       "      <td>0.0</td>\n",
       "      <td>0.0</td>\n",
       "      <td>0.0</td>\n",
       "      <td>0.0</td>\n",
       "      <td>0.0</td>\n",
       "      <td>0.0</td>\n",
       "      <td>0.0</td>\n",
       "      <td>0.0</td>\n",
       "      <td>0.0</td>\n",
       "    </tr>\n",
       "    <tr>\n",
       "      <th>4</th>\n",
       "      <td>0.0</td>\n",
       "      <td>0.0</td>\n",
       "      <td>0.000000</td>\n",
       "      <td>0.0</td>\n",
       "      <td>0.0</td>\n",
       "      <td>0.0</td>\n",
       "      <td>0.0</td>\n",
       "      <td>0.0</td>\n",
       "      <td>0.0</td>\n",
       "      <td>0.0</td>\n",
       "      <td>...</td>\n",
       "      <td>0.0</td>\n",
       "      <td>0.0</td>\n",
       "      <td>0.0</td>\n",
       "      <td>0.0</td>\n",
       "      <td>0.0</td>\n",
       "      <td>0.0</td>\n",
       "      <td>0.0</td>\n",
       "      <td>0.0</td>\n",
       "      <td>0.0</td>\n",
       "      <td>0.0</td>\n",
       "    </tr>\n",
       "  </tbody>\n",
       "</table>\n",
       "<p>5 rows × 353 columns</p>\n",
       "</div>"
      ],
      "text/plain": [
       "   able  actually       add  advertised  again  all  almost  already  also  \\\n",
       "0   0.0       0.0  0.000000         0.0    0.0  0.0     0.0      0.0   0.0   \n",
       "1   0.0       0.0  0.167398         0.0    0.0  0.0     0.0      0.0   0.0   \n",
       "2   0.0       0.0  0.000000         0.0    0.0  0.0     0.0      0.0   0.0   \n",
       "3   0.0       0.0  0.000000         0.0    0.0  0.0     0.0      0.0   0.0   \n",
       "4   0.0       0.0  0.000000         0.0    0.0  0.0     0.0      0.0   0.0   \n",
       "\n",
       "   although  ...  worked  working  worth  write  writes  writing  year  years  \\\n",
       "0       0.0  ...     0.0      0.0    0.0    0.0     0.0      0.0   0.0    0.0   \n",
       "1       0.0  ...     0.0      0.0    0.0    0.0     0.0      0.0   0.0    0.0   \n",
       "2       0.0  ...     0.0      0.0    0.0    0.0     0.0      0.0   0.0    0.0   \n",
       "3       0.0  ...     0.0      0.0    0.0    0.0     0.0      0.0   0.0    0.0   \n",
       "4       0.0  ...     0.0      0.0    0.0    0.0     0.0      0.0   0.0    0.0   \n",
       "\n",
       "   yet  you  \n",
       "0  0.0  0.0  \n",
       "1  0.0  0.0  \n",
       "2  0.0  0.0  \n",
       "3  0.0  0.0  \n",
       "4  0.0  0.0  \n",
       "\n",
       "[5 rows x 353 columns]"
      ]
     },
     "execution_count": 18,
     "metadata": {},
     "output_type": "execute_result"
    }
   ],
   "source": [
    "tfidf.head()"
   ]
  },
  {
   "cell_type": "markdown",
   "metadata": {
    "id": "ju3WA2YZVZOa"
   },
   "source": [
    "## Performing Topic Modeling with Latent Semantic Analysis"
   ]
  },
  {
   "cell_type": "markdown",
   "metadata": {
    "id": "2p-HoV5lVZOa"
   },
   "source": [
    "## Topic Modeling"
   ]
  },
  {
   "cell_type": "markdown",
   "metadata": {
    "id": "mQEJb8jaVZOa"
   },
   "source": [
    "### These are the elements that are produced from the above data cleaning. A dictionary that has been pre processed and a document term matrix (or corpus) to be utilized within the models.\n",
    "\n",
    "### The code below is taking the reviews and compiling them into the dictionary and document term matrix."
   ]
  },
  {
   "cell_type": "code",
   "execution_count": 13,
   "metadata": {
    "id": "iosBHVZbVZOa",
    "outputId": "bc75d5cc-60db-4b21-cfc0-c3cc65495ea6"
   },
   "outputs": [
    {
     "data": {
      "text/plain": [
       "359"
      ]
     },
     "execution_count": 13,
     "metadata": {},
     "output_type": "execute_result"
    }
   ],
   "source": [
    "#  convert the tokenized reviews into a list of lists\n",
    "reviews = reviews_tokens.tolist()\n",
    "#option to use phrases\n",
    "#reviews_n_grams = reviews_tokens_n_grams.copy()\n",
    "\n",
    "#  create a dictionary out of it (texts_dict) - apply the min_df parameter here as well\n",
    "dictionary = corpora.Dictionary(reviews)\n",
    "dictionary.filter_extremes(no_below=min_df)\n",
    "\n",
    "#  create a doc-term matrix (corpus)\n",
    "doc_term_matrix = [dictionary.doc2bow(doc) for doc in reviews]\n",
    "\n",
    "len(dictionary.token2id)"
   ]
  },
  {
   "cell_type": "markdown",
   "metadata": {
    "id": "XjPyMn59VZOa"
   },
   "source": [
    "### Topic Modeling with LDA"
   ]
  },
  {
   "cell_type": "code",
   "execution_count": 14,
   "metadata": {
    "id": "Fa416XT5VZOa",
    "outputId": "ba350c86-19e4-4c35-8e50-6073f99b5b2a"
   },
   "outputs": [
    {
     "data": {
      "image/png": "[encoded data removed]",
      "text/plain": [
       "<Figure size 432x288 with 1 Axes>"
      ]
     },
     "metadata": {
      "needs_background": "light"
     },
     "output_type": "display_data"
    }
   ],
   "source": [
    "#  ---- Topic Modelling with LDA ----\n",
    "# Visualization of the number of reviews verified\n",
    "# https://www.machinelearningplus.com/nlp/topic-modeling-python-sklearn-examples/\n",
    "\n",
    "\n",
    "n_topics = 20\n",
    "\n",
    "coherence_vals = []\n",
    "\n",
    "for topic in range(2, n_topics):\n",
    "    #  run an LDA model for each topic value\n",
    "    model = LdaModel(doc_term_matrix, num_topics=topic, id2word=dictionary)\n",
    "    #  create a coherence model\n",
    "    coherence_model = CoherenceModel(model=model, texts=reviews, dictionary=dictionary, coherence='c_v')\n",
    "    coherence_vals.append(coherence_model.get_coherence())\n",
    "\n",
    "x = range(2, n_topics)\n",
    "%matplotlib inline\n",
    "plt.plot(x, coherence_vals)\n",
    "plt.xlabel(\"Number of Topics\")\n",
    "plt.ylabel(\"Coherence Values\")\n",
    "plt.title('Ideal Number of Topics with LDA - Coherence Score')\n",
    "plt.show()"
   ]
  },
  {
   "cell_type": "code",
   "execution_count": 27,
   "metadata": {
    "id": "wGISukp7VZOa",
    "outputId": "24aae74a-addc-434c-d83a-c07e0fa734f5"
   },
   "outputs": [
    {
     "name": "stdout",
     "output_type": "stream",
     "text": [
      "(0, '0.065*\"paper\" + 0.044*\"quality\" + 0.043*\"price\" + 0.037*\"well\" + 0.026*\"perfect\"')\n",
      "(1, '0.106*\"pen\" + 0.044*\"ink\" + 0.044*\"color\" + 0.030*\"write\" + 0.026*\"pens\"')\n",
      "(2, '0.036*\"one\" + 0.030*\"use\" + 0.029*\"pencil\" + 0.023*\"phone\" + 0.020*\"card\"')\n",
      "(3, '0.026*\"it\" + 0.022*\"one\" + 0.019*\"use\" + 0.015*\"get\" + 0.014*\"little\"')\n",
      "(4, '0.107*\"product\" + 0.053*\"i\" + 0.032*\"a\" + 0.029*\"m\" + 0.027*\"price\"')\n",
      "(5, '0.079*\"printer\" + 0.042*\"ink\" + 0.037*\"print\" + 0.031*\"cartridge\" + 0.020*\"printing\"')\n"
     ]
    }
   ],
   "source": [
    "#  Sticking to 5 topics as changing from 5 to 7 doesn't affect the coherence value much\n",
    "n_topics = 6\n",
    "\n",
    "lda = LdaModel(doc_term_matrix,id2word=dictionary,num_topics=n_topics)\n",
    "topics = lda.print_topics(num_topics=n_topics, num_words=5)\n",
    "for topic in topics:\n",
    "    print(topic)"
   ]
  },
  {
   "cell_type": "code",
   "execution_count": 40,
   "metadata": {},
   "outputs": [
    {
     "data": {
      "text/plain": [
       "Text(0.5, 1.0, 'Topic Distributions')"
      ]
     },
     "execution_count": 40,
     "metadata": {},
     "output_type": "execute_result"
    },
    {
     "data": {
      "image/png": "[encoded data removed]",
      "text/plain": [
       "<Figure size 432x288 with 1 Axes>"
      ]
     },
     "metadata": {
      "needs_background": "light"
     },
     "output_type": "display_data"
    }
   ],
   "source": [
    "#  assigning topics to each review\n",
    "\n",
    "topics = []\n",
    "for review in reviews:\n",
    "    bow = dictionary.doc2bow(review)\n",
    "    topic = lda.get_document_topics(bow)\n",
    "    assigned_topic = max(topic,key=itemgetter(1))[0]  \n",
    "    topics.append(assigned_topic)\n",
    "\n",
    "office_prods['topic'] = topics\n",
    "set(topics)\n",
    "\n",
    "#  Analysis\n",
    "\n",
    "overall = office_prods.groupby(['overall']).agg(labels= ('topic', lambda x: x.value_counts().index[0]))\n",
    "\n",
    "\n",
    "vote = office_prods.groupby(['vote']).agg(labels= ('topic', lambda x: x.value_counts().index[0]))\n",
    "vote\n",
    "\n",
    "%matplotlib inline\n",
    "office_prods['topic'].value_counts(ascending=False).plot.bar(color='midnightblue')\n",
    "plt.title('Topic Distributions')"
   ]
  },
  {
   "cell_type": "code",
   "execution_count": 28,
   "metadata": {
    "id": "nX_V_IVcVZOa",
    "outputId": "b2351f8b-fb58-4f37-b81d-4dafe4436b5a"
   },
   "outputs": [
    {
     "data": {
      "text/html": [
       "\n",
       "<link rel=\"stylesheet\" type=\"text/css\" href=\"https://cdn.jsdelivr.net/gh/bmabey/pyLDAvis@3.3.1/pyLDAvis/js/ldavis.v1.0.0.css\">\n",
       "\n",
       "\n",
       "<div id=\"ldavis_el1694015139648103121963684722\"></div>\n",
       "<script type=\"text/javascript\">\n",
       "\n",
       "var ldavis_el1694015139648103121963684722_data = {\"mdsDat\": {\"x\": [0.04679543487489287, -0.015501603614400493, -0.08344747048921558, -0.10682677852626883, 0.21261483896556785, -0.05363442121057581], \"y\": [-0.0006500385499817997, 0.0017144283509356634, 0.03048706758314147, -0.1690529629935113, -0.030360669790501674, 0.1678621753999178], \"topics\": [1, 2, 3, 4, 5, 6], \"cluster\": [1, 1, 1, 1, 1, 1], \"Freq\": [26.784651698018454, 20.672371001809402, 16.24309405583396, 13.90162650787447, 11.583920873005669, 10.814335863458039]}, \"tinfo\": {\"Term\": [\"pen\", \"product\", \"printer\", \"ink\", \"paper\", \"print\", \"i\", \"price\", \"pencil\", \"cartridge\", \"color\", \"quality\", \"a\", \"phone\", \"pens\", \"write\", \"m\", \"writing\", \"card\", \"printing\", \"perfect\", \"hp\", \"amazon\", \"expected\", \"nice\", \"fine\", \"well\", \"item\", \"tape\", \"marker\", \"mouse\", \"pad\", \"tape\", \"desk\", \"stand\", \"file\", \"surface\", \"together\", \"bottom\", \"stuff\", \"help\", \"space\", \"open\", \"stay\", \"place\", \"put\", \"top\", \"box\", \"piece\", \"thing\", \"heavy\", \"keep\", \"everything\", \"something\", \"part\", \"stick\", \"side\", \"around\", \"it\", \"little\", \"plastic\", \"back\", \"size\", \"get\", \"really\", \"one\", \"need\", \"use\", \"small\", \"make\", \"hold\", \"also\", \"could\", \"look\", \"i\", \"well\", \"want\", \"right\", \"easy\", \"nice\", \"time\", \"phone\", \"pencil\", \"lead\", \"card\", \"pencils\", \"number\", \"envelope\", \"label\", \"colored\", \"old\", \"month\", \"year\", \"unit\", \"feature\", \"business\", \"case\", \"house\", \"every\", \"years\", \"kid\", \"set\", \"must\", \"day\", \"already\", \"machine\", \"couple\", \"week\", \"last\", \"replace\", \"home\", \"one\", \"time\", \"bought\", \"use\", \"long\", \"easy\", \"used\", \"need\", \"get\", \"also\", \"well\", \"make\", \"two\", \"using\", \"s\", \"perfect\", \"it\", \"nice\", \"printer\", \"toner\", \"cartridge\", \"brother\", \"hp\", \"printing\", \"print\", \"cartridges\", \"canon\", \"printed\", \"photo\", \"replacement\", \"cost\", \"replace\", \"ink\", \"worked\", \"expensive\", \"machine\", \"problem\", \"save\", \"working\", \"computer\", \"run\", \"low\", \"issue\", \"page\", \"black\", \"cheaper\", \"all\", \"far\", \"good\", \"new\", \"paper\", \"quality\", \"one\", \"color\", \"last\", \"time\", \"i\", \"use\", \"price\", \"well\", \"set\", \"buy\", \"get\", \"used\", \"ve\", \"pens\", \"pen\", \"fountain\", \"writes\", \"marker\", \"writing\", \"dry\", \"blue\", \"tip\", \"write\", \"smoothly\", \"gel\", \"smooth\", \"colors\", \"favorite\", \"refill\", \"bright\", \"point\", \"fine\", \"color\", \"awesome\", \"black\", \"ink\", \"fun\", \"white\", \"comfortable\", \"with\", \"line\", \"board\", \"nice\", \"great\", \"feel\", \"hand\", \"them\", \"buy\", \"use\", \"well\", \"really\", \"paper\", \"one\", \"binder\", \"thank\", \"expected\", \"described\", \"notebook\", \"durable\", \"exactly\", \"cover\", \"ok\", \"value\", \"item\", \"book\", \"thick\", \"pocket\", \"sturdy\", \"for\", \"paper\", \"supply\", \"you\", \"needed\", \"quality\", \"perfect\", \"school\", \"price\", \"shipping\", \"high\", \"useful\", \"page\", \"strong\", \"standard\", \"board\", \"size\", \"well\", \"made\", \"nice\", \"hold\", \"use\", \"easy\", \"great\", \"fit\", \"a\", \"thanks\", \"beautiful\", \"class\", \"product\", \"normal\", \"deal\", \"amazon\", \"name\", \"advertised\", \"happy\", \"m\", \"picture\", \"service\", \"pleased\", \"pack\", \"purchase\", \"i\", \"brand\", \"ve\", \"shipping\", \"came\", \"received\", \"glad\", \"free\", \"best\", \"arrived\", \"wonderful\", \"review\", \"always\", \"price\", \"excellent\", \"order\", \"store\", \"buy\", \"used\", \"quality\", \"time\", \"find\", \"use\", \"color\", \"lot\"], \"Freq\": [8346.0, 6805.0, 7227.0, 7372.0, 7850.0, 3407.0, 6959.0, 5925.0, 3435.0, 2813.0, 5512.0, 5647.0, 1971.0, 2701.0, 2059.0, 2563.0, 3216.0, 1949.0, 2398.0, 1831.0, 3427.0, 1698.0, 1950.0, 1362.0, 5206.0, 2831.0, 7747.0, 2001.0, 1931.0, 1239.0, 1216.5460132702628, 1573.7540751264596, 1923.1818450853725, 1690.2022514285234, 717.7253428895452, 807.3452518493523, 715.9705905116544, 774.9646231884109, 669.3882072543396, 636.0332639027004, 815.4423808838568, 876.9878011232655, 785.93856863889, 541.6607626726301, 1022.37977879784, 1651.0985344942053, 1034.1136685798929, 1664.193014072014, 613.3683872506763, 1757.4370779008268, 831.5144534820773, 1685.7237137747293, 769.2511319808707, 965.8882594954204, 533.6350082632807, 662.4822985301462, 879.6383455405982, 972.6388835146633, 3869.917950287086, 2106.1355379257416, 995.6512317014834, 1271.6255333281222, 1468.793445795602, 2299.246047676209, 1938.1694600094293, 3358.5091481873324, 1626.6905958321008, 2874.192139672885, 1228.7365316359428, 1554.3158104139877, 1185.7658382168963, 1509.1304261100067, 1221.684000346803, 1213.6083506025525, 1705.0905686500946, 1773.506403966851, 1096.341989401571, 1034.3217007877945, 1312.1540666572503, 1284.151832860788, 1199.6151211813983, 2699.859272363617, 3429.2097005973014, 691.2672172343912, 2338.3400170507407, 853.4192217739031, 739.4414086640548, 577.1810783823223, 1634.7152404716055, 540.7906949000709, 1166.413653763957, 732.4776885971619, 1905.442957170853, 621.4226051092076, 698.5123233361445, 659.1303991985566, 664.4800494004288, 402.4353230716641, 879.3637533902801, 521.1784633067444, 359.851049753299, 1524.737272504769, 320.14531698084903, 941.2623217460344, 272.12353166317075, 583.7800347482403, 380.2844752635053, 345.85585847165646, 1043.3869179908509, 295.66592771635436, 681.714821741133, 4165.382530819718, 2104.265752871551, 1247.0774692468938, 3466.479843469209, 939.9096903256107, 1641.1893477507795, 1271.0062071845252, 1189.2803319911056, 1273.7966956971252, 1105.5417612460385, 1398.1517126987258, 1027.2084982843962, 848.6325610541794, 899.7774215460975, 818.4018521271948, 863.2670264036237, 942.340687388613, 774.4193179550922, 7223.761933553018, 1198.2278256633854, 2810.7226218054966, 977.6482661537177, 1696.3545638237665, 1828.3160711443106, 3397.9679425494464, 543.5208304436524, 1099.296626565367, 692.9121983590967, 1190.7398567965852, 553.2157027347669, 783.2820642214075, 335.44987569162134, 3842.218221120826, 768.7064653886206, 527.7524147237613, 530.5196815700482, 964.5026809495663, 269.33581097108805, 387.7743066914986, 361.06836229080216, 388.4254659853645, 221.68506117565875, 415.97752883100566, 872.94328666776, 663.9755625281382, 293.44918302878074, 381.9124637034444, 617.4204703495601, 468.2042453648001, 582.7352514798707, 1794.6568541684912, 1180.5331366575674, 1686.894710198235, 1104.2041306289948, 600.3312437500605, 994.4343131226569, 1011.3884563059764, 1146.9117584129322, 875.8022035333712, 865.4764152425005, 634.0045968658595, 659.9710204209744, 714.5634690938394, 680.7055347182458, 628.3607750095156, 2057.9201579365645, 8338.458783741293, 754.9238709471787, 675.0719905240952, 1220.7504598612695, 1837.7067405154269, 1102.2117193735328, 812.5256732399706, 951.9001860407805, 2317.3888040443053, 500.9862739293418, 615.5109064556748, 1177.1904693687768, 814.0149086825908, 643.3653550556539, 737.9567334691193, 447.27094337751305, 1005.8473963699503, 1799.421868753295, 3431.68882850632, 430.33271776954774, 957.4918367496681, 3484.5246680111154, 255.05044815920093, 526.1105428369365, 286.5126120181301, 211.76038707333862, 554.3127014498167, 340.44030409365854, 1798.4294350026073, 978.9684949416659, 582.2335632836276, 480.28610596272745, 642.6174477410335, 799.9232412681217, 1284.9572538066757, 1080.6490931430253, 815.3325004564856, 991.0547531720881, 758.3840113951239, 962.2612907210757, 683.8187814443328, 1343.2541550454357, 866.6403701485201, 844.999387558257, 651.0442382226813, 1056.767113079891, 812.1654528388236, 524.3308025600165, 783.1626656696465, 1309.585206324366, 718.3271909150778, 459.2350407592711, 523.1438254053708, 865.7065530603172, 463.42131900908527, 4227.896887570677, 308.8615552391828, 458.9644896439904, 1117.5498947688875, 2875.8737453922126, 1713.3868423712745, 590.110449843427, 2787.837393201021, 533.1494958081119, 545.1270857659281, 248.5207224366302, 1000.7968092275794, 307.2161670931951, 270.9210481689196, 321.3798210270635, 947.3170497632821, 2446.31934676347, 765.293195474431, 1240.5687528690162, 723.5975010567157, 1344.1209663412692, 842.1459763473839, 585.1911282250913, 539.4537053260098, 1963.5219417351307, 681.9611671834382, 596.6252679063767, 938.0876042991072, 6530.652457739347, 620.3475913077438, 712.8018765691758, 1467.4836901978094, 513.6402131127016, 376.13639685997333, 879.9691602067992, 1777.4465643927956, 424.72402301081905, 462.82997863101406, 366.4808401155815, 497.6850766998647, 712.7546196987702, 3211.22820141266, 724.6386705575021, 1277.8419261279025, 496.83746700865606, 510.51420809923377, 344.4673274227772, 183.8547878067993, 280.50870754598446, 925.6956131678576, 316.75441437592, 169.09961195043286, 536.8890010629655, 587.1884518984648, 1673.9595912170855, 606.6139827437539, 409.3693786834781, 370.31234300420095, 613.185019296532, 593.6232339849474, 645.9225432579331, 568.5719177299375, 465.59009832054795, 614.8052873489921, 539.7338532878836, 467.959936540054], \"Total\": [8346.0, 6805.0, 7227.0, 7372.0, 7850.0, 3407.0, 6959.0, 5925.0, 3435.0, 2813.0, 5512.0, 5647.0, 1971.0, 2701.0, 2059.0, 2563.0, 3216.0, 1949.0, 2398.0, 1831.0, 3427.0, 1698.0, 1950.0, 1362.0, 5206.0, 2831.0, 7747.0, 2001.0, 1931.0, 1239.0, 1217.4128955823787, 1575.5609821391336, 1931.2709240798047, 1714.979047621636, 749.3689945198261, 846.5017977329342, 757.0280646399283, 846.7159546891163, 736.9172191154214, 706.3413234771597, 972.4912343047454, 1051.3701959205912, 948.8187953526605, 663.2200730273482, 1271.6124426521505, 2071.0732248835784, 1383.6940407884736, 2331.244741508411, 862.2332828199529, 2546.4827756775794, 1227.2974796540561, 2511.278868946672, 1157.9233972757584, 1470.1464072998735, 818.5967991277079, 1037.9090468060417, 1405.8120214041369, 1560.023783180185, 6248.860747961433, 3451.0492976265487, 1698.338664229123, 2320.6017279824036, 2833.887035564695, 5256.42257531251, 4356.978917050882, 10749.408071560376, 3875.038022366469, 10731.467249051964, 2417.411657862193, 3987.4383710213842, 2359.0646530202075, 3960.2723953110226, 2627.4821785853355, 2673.7235986868177, 6959.238981559145, 7747.017185828003, 2171.5814118151184, 1904.7622333930217, 4657.858355213179, 5206.036680181149, 5394.819931992322, 2701.418995852292, 3435.6134793321316, 702.1356791280552, 2398.054158479228, 882.7391068450363, 851.1705023233017, 673.1302205185002, 2038.4976119008722, 675.3110616741135, 1606.048478452281, 1017.2030029039734, 2648.8309335152276, 867.6353912333391, 975.450446075371, 938.2352891850859, 986.5075771470503, 627.8683779379243, 1398.5482693688655, 847.2287141053348, 634.7593202532306, 2730.7968041152053, 593.8610141132049, 1790.587489863348, 522.4296148142441, 1137.5252002241386, 779.5138685017755, 712.9488392283843, 2158.117851309573, 632.5301723260751, 1471.4417882167536, 10749.408071560376, 5394.819931992322, 3034.339982982066, 10731.467249051964, 2292.1028591861727, 4657.858355213179, 4183.143732191596, 3875.038022366469, 5256.42257531251, 3960.2723953110226, 7747.017185828003, 3987.4383710213842, 2329.7515581694024, 3472.6578454401524, 2521.1629602993653, 3427.8080496126313, 6248.860747961433, 5206.036680181149, 7227.72519070997, 1199.1949736189497, 2813.08704299891, 978.6803688940856, 1698.842169795482, 1831.2412794248924, 3407.12011171666, 545.3099062714589, 1104.483388569108, 803.4030194732441, 1433.4104726061666, 757.2945701550492, 1288.3862626475645, 632.5301723260751, 7372.992606432354, 1519.5881195897584, 1059.4318374479603, 1137.5252002241386, 2294.4661654421875, 645.985642224636, 946.3842083690841, 906.4830994595915, 1003.8283847247287, 596.3964622543148, 1125.7265612089532, 2416.2256675358058, 1906.4575784222818, 850.1437040202164, 1117.4321831976106, 1845.6894805987645, 1402.1743069123065, 1795.7301965888319, 7850.4225501296505, 5647.308752328456, 10749.408071560376, 5512.023731556559, 2158.117851309573, 5394.819931992322, 6959.238981559145, 10731.467249051964, 5925.05005429151, 7747.017185828003, 2730.7968041152053, 3422.386934986624, 5256.42257531251, 4183.143732191596, 2949.759113071873, 2059.5771205568653, 8346.237613859228, 755.8643720658428, 676.0520809017163, 1239.6552090028633, 1949.6680293765967, 1186.8634752756716, 892.0166345826517, 1052.1833162278188, 2563.8060997093576, 554.4328790232225, 682.4701492765186, 1325.4683036137772, 951.6070627107806, 776.1706949830807, 893.9698971949068, 582.9326329202553, 1552.6644250507143, 2831.175655861998, 5512.023731556559, 784.1025206265551, 1906.4575784222818, 7372.992606432354, 551.015146916042, 1236.8740281778137, 701.4237447771984, 547.7795241039954, 1475.174990364649, 910.1187433483511, 5206.036680181149, 2878.944816624191, 1704.3230898127097, 1407.007449614512, 2292.439951203664, 3422.386934986624, 10731.467249051964, 7747.017185828003, 4356.978917050882, 7850.4225501296505, 10749.408071560376, 963.7528232853897, 689.1055618070551, 1362.5923304668636, 881.6862803317398, 863.0146204350348, 716.1658189332569, 1278.1436134960745, 1056.2506273662925, 701.2011602259287, 1157.1338322085153, 2001.6168220166367, 1175.6871522832364, 778.3642141614905, 891.1666496792997, 1541.0874772974166, 828.3409196108599, 7850.4225501296505, 579.6661476345076, 866.5550099892888, 2133.653166998156, 5647.308752328456, 3427.8080496126313, 1195.4528772751385, 5925.05005429151, 1153.0513184568779, 1288.060808877198, 590.1097051655571, 2416.2256675358058, 743.443569398004, 766.9241041691961, 910.1187433483511, 2833.887035564695, 7747.017185828003, 2275.788662924187, 5206.036680181149, 2359.0646530202075, 10731.467249051964, 4657.858355213179, 2878.944816624191, 2007.0796652716713, 1971.3046993440835, 685.30903619322, 602.4604121279797, 956.166572374894, 6805.950539820939, 742.5400018699139, 900.2794117045713, 1950.8175597997395, 730.0775709502965, 662.6626918184854, 1568.3258146089206, 3216.7522122197242, 776.2730528876447, 877.392993179433, 703.6514707464094, 1030.8845121016352, 1525.8384223621902, 6959.238981559145, 1579.185686427153, 2949.759113071873, 1153.0513184568779, 1238.1387736536776, 839.1815884241296, 459.7672845423431, 707.0393004502309, 2340.1870894453077, 883.3990902327973, 500.36908524100835, 1604.322835456799, 1764.4682125191523, 5925.05005429151, 2138.249505662281, 1309.5381901670403, 1185.4578932697768, 3422.386934986624, 4183.143732191596, 5647.308752328456, 5394.819931992322, 2129.42022853542, 10731.467249051964, 5512.023731556559, 2953.2713012906393], \"Category\": [\"Default\", \"Default\", \"Default\", \"Default\", \"Default\", \"Default\", \"Default\", \"Default\", \"Default\", \"Default\", \"Default\", \"Default\", \"Default\", \"Default\", \"Default\", \"Default\", \"Default\", \"Default\", \"Default\", \"Default\", \"Default\", \"Default\", \"Default\", \"Default\", \"Default\", \"Default\", \"Default\", \"Default\", \"Default\", \"Default\", \"Topic1\", \"Topic1\", \"Topic1\", \"Topic1\", \"Topic1\", \"Topic1\", \"Topic1\", \"Topic1\", \"Topic1\", \"Topic1\", \"Topic1\", \"Topic1\", \"Topic1\", \"Topic1\", \"Topic1\", \"Topic1\", \"Topic1\", \"Topic1\", \"Topic1\", \"Topic1\", \"Topic1\", \"Topic1\", \"Topic1\", \"Topic1\", \"Topic1\", \"Topic1\", \"Topic1\", \"Topic1\", \"Topic1\", \"Topic1\", \"Topic1\", \"Topic1\", \"Topic1\", \"Topic1\", \"Topic1\", \"Topic1\", \"Topic1\", \"Topic1\", \"Topic1\", \"Topic1\", \"Topic1\", \"Topic1\", \"Topic1\", \"Topic1\", \"Topic1\", \"Topic1\", \"Topic1\", \"Topic1\", \"Topic1\", \"Topic1\", \"Topic1\", \"Topic2\", \"Topic2\", \"Topic2\", \"Topic2\", \"Topic2\", \"Topic2\", \"Topic2\", \"Topic2\", \"Topic2\", \"Topic2\", \"Topic2\", \"Topic2\", \"Topic2\", \"Topic2\", \"Topic2\", \"Topic2\", \"Topic2\", \"Topic2\", \"Topic2\", \"Topic2\", \"Topic2\", \"Topic2\", \"Topic2\", \"Topic2\", \"Topic2\", \"Topic2\", \"Topic2\", \"Topic2\", \"Topic2\", \"Topic2\", \"Topic2\", \"Topic2\", \"Topic2\", \"Topic2\", \"Topic2\", \"Topic2\", \"Topic2\", \"Topic2\", \"Topic2\", \"Topic2\", \"Topic2\", \"Topic2\", \"Topic2\", \"Topic2\", \"Topic2\", \"Topic2\", \"Topic2\", \"Topic2\", \"Topic3\", \"Topic3\", \"Topic3\", \"Topic3\", \"Topic3\", \"Topic3\", \"Topic3\", \"Topic3\", \"Topic3\", \"Topic3\", \"Topic3\", \"Topic3\", \"Topic3\", \"Topic3\", \"Topic3\", \"Topic3\", \"Topic3\", \"Topic3\", \"Topic3\", \"Topic3\", \"Topic3\", \"Topic3\", \"Topic3\", \"Topic3\", \"Topic3\", \"Topic3\", \"Topic3\", \"Topic3\", \"Topic3\", \"Topic3\", \"Topic3\", \"Topic3\", \"Topic3\", \"Topic3\", \"Topic3\", \"Topic3\", \"Topic3\", \"Topic3\", \"Topic3\", \"Topic3\", \"Topic3\", \"Topic3\", \"Topic3\", \"Topic3\", \"Topic3\", \"Topic3\", \"Topic3\", \"Topic4\", \"Topic4\", \"Topic4\", \"Topic4\", \"Topic4\", \"Topic4\", \"Topic4\", \"Topic4\", \"Topic4\", \"Topic4\", \"Topic4\", \"Topic4\", \"Topic4\", \"Topic4\", \"Topic4\", \"Topic4\", \"Topic4\", \"Topic4\", \"Topic4\", \"Topic4\", \"Topic4\", \"Topic4\", \"Topic4\", \"Topic4\", \"Topic4\", \"Topic4\", \"Topic4\", \"Topic4\", \"Topic4\", \"Topic4\", \"Topic4\", \"Topic4\", \"Topic4\", \"Topic4\", \"Topic4\", \"Topic4\", \"Topic4\", \"Topic4\", \"Topic4\", \"Topic4\", \"Topic5\", \"Topic5\", \"Topic5\", \"Topic5\", \"Topic5\", \"Topic5\", \"Topic5\", \"Topic5\", \"Topic5\", \"Topic5\", \"Topic5\", \"Topic5\", \"Topic5\", \"Topic5\", \"Topic5\", \"Topic5\", \"Topic5\", \"Topic5\", \"Topic5\", \"Topic5\", \"Topic5\", \"Topic5\", \"Topic5\", \"Topic5\", \"Topic5\", \"Topic5\", \"Topic5\", \"Topic5\", \"Topic5\", \"Topic5\", \"Topic5\", \"Topic5\", \"Topic5\", \"Topic5\", \"Topic5\", \"Topic5\", \"Topic5\", \"Topic5\", \"Topic5\", \"Topic5\", \"Topic6\", \"Topic6\", \"Topic6\", \"Topic6\", \"Topic6\", \"Topic6\", \"Topic6\", \"Topic6\", \"Topic6\", \"Topic6\", \"Topic6\", \"Topic6\", \"Topic6\", \"Topic6\", \"Topic6\", \"Topic6\", \"Topic6\", \"Topic6\", \"Topic6\", \"Topic6\", \"Topic6\", \"Topic6\", \"Topic6\", \"Topic6\", \"Topic6\", \"Topic6\", \"Topic6\", \"Topic6\", \"Topic6\", \"Topic6\", \"Topic6\", \"Topic6\", \"Topic6\", \"Topic6\", \"Topic6\", \"Topic6\", \"Topic6\", \"Topic6\", \"Topic6\", \"Topic6\", \"Topic6\", \"Topic6\"], \"logprob\": [30.0, 29.0, 28.0, 27.0, 26.0, 25.0, 24.0, 23.0, 22.0, 21.0, 20.0, 19.0, 18.0, 17.0, 16.0, 15.0, 14.0, 13.0, 12.0, 11.0, 10.0, 9.0, 8.0, 7.0, 6.0, 5.0, 4.0, 3.0, 2.0, 1.0, -4.8228, -4.5654, -4.3648, -4.494, -5.3505, -5.2328, -5.3529, -5.2738, -5.4202, -5.4713, -5.2229, -5.1501, -5.2597, -5.6319, -4.9967, -4.5174, -4.9853, -4.5095, -5.5076, -4.455, -5.2033, -4.4966, -5.2812, -5.0535, -5.6469, -5.4306, -5.1471, -5.0466, -3.6656, -4.274, -5.0232, -4.7785, -4.6344, -4.1862, -4.3571, -3.8073, -4.5323, -3.9631, -4.8128, -4.5778, -4.8484, -4.6073, -4.8186, -4.8252, -4.4852, -4.4459, -4.9269, -4.9851, -4.7472, -4.7687, -4.8368, -3.7666, -3.5275, -5.129, -3.9104, -4.9183, -5.0617, -5.3094, -4.2683, -5.3745, -4.6059, -5.0711, -4.1151, -5.2355, -5.1186, -5.1766, -5.1685, -5.67, -4.8884, -5.4115, -5.7819, -4.338, -5.8988, -4.8203, -6.0613, -5.298, -5.7266, -5.8215, -4.7173, -5.9783, -5.1429, -3.333, -4.0158, -4.539, -3.5167, -4.8218, -4.2644, -4.52, -4.5865, -4.5178, -4.6595, -4.4246, -4.733, -4.9239, -4.8654, -4.9602, -4.9068, -4.8192, -5.0154, -2.5413, -4.3378, -3.4852, -4.5413, -3.9902, -3.9153, -3.2955, -5.1284, -4.424, -4.8855, -4.3441, -5.1107, -4.7629, -5.611, -3.1726, -4.7817, -5.1578, -5.1526, -4.5548, -5.8305, -5.466, -5.5374, -5.4643, -6.0252, -5.3958, -4.6546, -4.9282, -5.7447, -5.4812, -5.0009, -5.2775, -5.0587, -3.9339, -4.3527, -3.9958, -4.4195, -5.0289, -4.5242, -4.5073, -4.3816, -4.6513, -4.6631, -4.9744, -4.9342, -4.8548, -4.9033, -4.9833, -3.6413, -2.2421, -4.6441, -4.7559, -4.1635, -3.7545, -4.2657, -4.5706, -4.4123, -3.5226, -5.0542, -4.8483, -4.1999, -4.5688, -4.804, -4.6669, -5.1676, -4.3572, -3.7755, -3.13, -5.2062, -4.4064, -3.1147, -5.7293, -5.0053, -5.613, -5.9153, -4.953, -5.4405, -3.7761, -4.3843, -4.9039, -5.0964, -4.8052, -4.5862, -4.1123, -4.2854, -4.5672, -4.372, -4.6396, -4.2191, -4.5607, -3.8855, -4.3237, -4.349, -4.6098, -4.1254, -4.3887, -4.8263, -4.425, -3.9109, -4.5114, -4.9588, -4.8285, -4.3248, -4.9497, -2.7389, -5.3555, -4.9594, -4.0695, -3.1243, -3.6421, -4.7081, -3.1554, -4.8096, -4.7874, -5.5728, -4.1798, -5.3608, -5.4865, -5.3158, -4.2347, -3.286, -4.4481, -3.965, -4.5041, -3.8849, -4.3524, -4.7164, -4.7978, -3.4371, -4.4947, -4.6283, -4.1758, -2.2354, -4.5893, -4.4504, -3.7283, -4.7781, -5.0897, -4.2397, -3.5367, -4.9682, -4.8823, -5.1157, -4.8097, -4.4505, -2.9452, -4.434, -3.8667, -4.8114, -4.7842, -5.1776, -5.8055, -5.383, -4.1891, -5.2615, -5.8891, -4.7338, -4.6443, -3.5967, -4.6117, -5.005, -5.1053, -4.601, -4.6334, -4.5489, -4.6765, -4.8763, -4.5983, -4.7286, -4.8712], \"loglift\": [30.0, 29.0, 28.0, 27.0, 26.0, 25.0, 24.0, 23.0, 22.0, 21.0, 20.0, 19.0, 18.0, 17.0, 16.0, 15.0, 14.0, 13.0, 12.0, 11.0, 10.0, 9.0, 8.0, 7.0, 6.0, 5.0, 4.0, 3.0, 2.0, 1.0, 1.3166, 1.3162, 1.3131, 1.3028, 1.2742, 1.27, 1.2616, 1.2288, 1.2212, 1.2125, 1.1412, 1.136, 1.129, 1.1149, 1.0992, 1.0907, 1.0261, 0.9803, 0.9768, 0.9465, 0.928, 0.9187, 0.9084, 0.8973, 0.8895, 0.8684, 0.8485, 0.8449, 0.8382, 0.8235, 0.7833, 0.7158, 0.6601, 0.4905, 0.5073, 0.154, 0.4493, -0.0001, 0.6406, 0.3752, 0.6295, 0.3526, 0.5515, 0.5275, -0.0891, -0.157, 0.6339, 0.7067, 0.0505, -0.0824, -0.1861, 1.5758, 1.5745, 1.5608, 1.5512, 1.5426, 1.4357, 1.4226, 1.3556, 1.3542, 1.2565, 1.248, 1.247, 1.2426, 1.2424, 1.2233, 1.1812, 1.1316, 1.1124, 1.0905, 1.0088, 0.9936, 0.9585, 0.9333, 0.9241, 0.9093, 0.8586, 0.853, 0.8496, 0.8159, 0.807, 0.6283, 0.6349, 0.6872, 0.4463, 0.6849, 0.5332, 0.3851, 0.3952, 0.1589, 0.3004, -0.1358, 0.2201, 0.5665, 0.2258, 0.4513, 0.1974, -0.3154, -0.3291, 1.817, 1.8167, 1.8167, 1.8164, 1.816, 1.8159, 1.8148, 1.8142, 1.8128, 1.6695, 1.632, 1.5035, 1.3198, 1.1832, 1.1657, 1.136, 1.1206, 1.0547, 0.9509, 0.9427, 0.9253, 0.897, 0.868, 0.8279, 0.8219, 0.7994, 0.7627, 0.7538, 0.7439, 0.7224, 0.7206, 0.6921, 0.3417, 0.2523, -0.0345, 0.2097, 0.538, 0.1265, -0.1112, -0.4186, -0.0943, -0.3743, 0.3572, 0.1716, -0.178, 0.0018, 0.2711, 1.9724, 1.9722, 1.9719, 1.9717, 1.9578, 1.914, 1.8992, 1.8798, 1.873, 1.8721, 1.8718, 1.8699, 1.8545, 1.817, 1.7855, 1.7814, 1.7083, 1.539, 1.5199, 1.4993, 1.3732, 1.2845, 1.2237, 1.2029, 1.1183, 1.0778, 1.0227, 0.9944, 0.9898, 0.9103, 0.8945, 0.8991, 0.8983, 0.7013, 0.5196, -0.1493, 0.0034, 0.2972, -0.0964, -0.6783, 2.154, 2.1479, 2.1413, 2.1383, 2.1345, 2.0602, 1.9654, 1.8928, 1.8649, 1.7652, 1.7313, 1.6629, 1.6279, 1.6229, 1.5789, 1.5748, 1.5367, 1.526, 1.52, 1.5089, 1.4807, 1.4621, 1.4496, 1.4016, 1.3842, 1.2957, 1.2908, 1.2741, 1.2718, 1.115, 1.1146, 1.0598, 1.0028, 1.0657, 0.7213, 0.9738, 0.0781, 0.4452, 0.5623, 0.8417, 2.2203, 2.2194, 2.2146, 2.2052, 2.183, 2.0445, 1.9908, 1.9396, 1.8727, 1.658, 1.6464, 1.6311, 1.6212, 1.5847, 1.572, 1.4961, 1.4631, 1.4509, 1.4453, 1.3877, 1.3824, 1.3384, 1.3339, 1.3077, 1.2998, 1.2969, 1.1986, 1.1394, 1.1296, 1.124, 0.9603, 0.9644, 1.0615, 1.0608, 0.5049, 0.2717, 0.056, -0.0258, 0.704, -0.6353, -0.0993, 0.382]}, \"token.table\": {\"Topic\": [1, 3, 5, 6, 1, 6, 1, 2, 3, 4, 5, 6, 1, 2, 3, 4, 5, 6, 1, 2, 3, 4, 5, 6, 1, 2, 3, 4, 5, 6, 1, 2, 3, 4, 5, 6, 1, 2, 3, 4, 5, 6, 1, 2, 3, 4, 5, 6, 1, 2, 3, 4, 5, 6, 1, 2, 3, 4, 5, 6, 2, 4, 5, 6, 1, 2, 3, 4, 5, 6, 1, 5, 1, 2, 3, 4, 5, 6, 1, 2, 3, 4, 6, 1, 2, 3, 4, 5, 6, 1, 2, 4, 5, 6, 1, 2, 3, 4, 5, 6, 1, 2, 3, 4, 5, 6, 1, 2, 3, 4, 5, 6, 1, 2, 3, 4, 5, 6, 1, 2, 3, 4, 5, 6, 3, 1, 2, 3, 4, 5, 6, 1, 2, 3, 4, 5, 6, 1, 2, 3, 4, 5, 6, 3, 6, 2, 4, 5, 6, 3, 6, 3, 6, 1, 2, 3, 4, 5, 6, 1, 2, 3, 4, 5, 6, 1, 2, 3, 4, 5, 6, 1, 2, 3, 4, 5, 6, 1, 2, 3, 4, 6, 2, 3, 4, 5, 6, 1, 2, 3, 4, 6, 1, 2, 3, 6, 1, 2, 3, 4, 5, 6, 1, 2, 3, 4, 5, 6, 1, 2, 3, 4, 5, 6, 1, 2, 3, 5, 6, 1, 2, 3, 4, 5, 6, 1, 2, 3, 4, 5, 6, 1, 4, 5, 1, 2, 3, 5, 1, 2, 3, 4, 5, 6, 1, 2, 4, 5, 6, 1, 2, 3, 4, 5, 6, 1, 2, 3, 4, 5, 6, 1, 2, 3, 4, 5, 6, 1, 2, 3, 4, 5, 6, 1, 2, 3, 4, 5, 6, 1, 2, 3, 4, 5, 6, 1, 2, 3, 5, 6, 1, 2, 3, 4, 5, 6, 1, 2, 3, 4, 5, 6, 1, 2, 3, 4, 5, 6, 1, 2, 3, 5, 6, 1, 2, 3, 4, 5, 6, 1, 2, 3, 5, 6, 1, 2, 3, 4, 5, 6, 1, 2, 3, 4, 5, 6, 1, 2, 3, 4, 5, 6, 1, 2, 3, 4, 5, 6, 4, 1, 2, 3, 4, 5, 6, 1, 2, 4, 5, 6, 1, 4, 6, 1, 2, 3, 4, 5, 6, 1, 2, 3, 4, 5, 6, 1, 2, 3, 4, 5, 6, 1, 2, 3, 4, 5, 6, 1, 2, 3, 4, 5, 6, 1, 2, 3, 4, 5, 6, 1, 2, 3, 4, 5, 6, 1, 2, 3, 4, 5, 6, 1, 2, 3, 4, 5, 6, 1, 2, 3, 4, 5, 6, 1, 2, 3, 5, 6, 1, 2, 3, 3, 6, 1, 2, 3, 4, 5, 6, 2, 3, 4, 5, 6, 1, 2, 3, 4, 5, 6, 1, 2, 3, 4, 5, 6, 1, 2, 3, 4, 5, 6, 1, 2, 3, 4, 5, 6, 1, 2, 4, 5, 6, 1, 2, 3, 5, 6, 1, 2, 3, 4, 5, 6, 1, 2, 6, 1, 2, 3, 4, 5, 6, 1, 2, 3, 4, 5, 6, 1, 2, 3, 4, 5, 6, 1, 2, 3, 4, 5, 6, 1, 2, 3, 4, 5, 6, 1, 2, 3, 4, 5, 6, 1, 2, 3, 4, 5, 6, 1, 2, 3, 6, 1, 2, 3, 4, 5, 6, 1, 2, 3, 4, 5, 6, 1, 2, 4, 5, 6, 1, 2, 3, 4, 5, 6, 1, 1, 2, 3, 5, 6, 2, 3, 4, 5, 6, 1, 2, 3, 4, 5, 6, 1, 2, 3, 4, 5, 6, 1, 2, 3, 4, 5, 6, 1, 2, 3, 4, 5, 6, 1, 2, 3, 4, 5, 6, 1, 2, 4, 5, 6, 1, 2, 3, 5, 6, 1, 2, 3, 4, 5, 6, 1, 2, 3, 4, 5, 6, 1, 2, 3, 4, 5, 6, 1, 2, 3, 5, 6, 1, 2, 3, 4, 5, 6, 1, 2, 3, 4, 5, 6, 1, 6, 1, 2, 3, 4, 5, 6, 1, 2, 3, 4, 5, 6, 1, 2, 3, 4, 5, 6, 1, 2, 3, 4, 5, 6, 2, 4, 6, 2, 4, 6, 2, 4, 1, 2, 3, 4, 5, 6, 2, 3, 1, 2, 3, 5, 6, 1, 2, 3, 4, 5, 6, 1, 2, 3, 4, 5, 6, 1, 2, 3, 5, 6, 1, 2, 3, 4, 5, 6, 1, 2, 3, 4, 5, 6, 1, 2, 4, 5, 6, 1, 2, 3, 4, 5, 6, 1, 2, 3, 4, 5, 6, 1, 2, 3, 5, 6, 1, 2, 3, 4, 5, 6, 1, 3, 5, 6, 3, 5, 6, 1, 2, 3, 4, 5, 6, 1, 2, 3, 4, 5, 6, 1, 2, 3, 4, 5, 6, 1, 2, 3, 4, 5, 6, 1, 2, 3, 4, 5, 6, 1, 2, 3, 4, 5, 6, 1, 2, 3, 4, 5, 6, 2, 3, 4, 6, 2, 3, 2, 3, 5, 6, 1, 2, 3, 4, 5, 6, 1, 2, 3, 4, 5, 6, 1, 2, 3, 4, 5, 6, 1, 2, 3, 4, 5, 6, 1, 2, 3, 4, 5, 6, 1, 2, 3, 4, 5, 6, 2, 3, 4, 5, 6, 1, 2, 3, 4, 5, 6, 1, 2, 3, 4, 5, 6, 1, 2, 3, 4, 5, 6, 1, 2, 3, 4, 5, 6, 1, 2, 3, 4, 5, 6, 1, 2, 3, 4, 5, 6, 1, 2, 3, 4, 6, 1, 2, 3, 4, 5, 6, 1, 2, 3, 4, 5, 6, 1, 2, 3, 4, 5, 1, 2, 3, 4, 5, 6, 1, 2, 3, 4, 5, 6, 1, 2, 3, 4, 5, 6, 1, 2, 3, 4, 5, 6, 1, 2, 3, 4, 5, 6, 1, 2, 3, 4, 5, 6, 1, 2, 4, 5, 6, 1, 2, 3, 4, 5, 6, 1, 2, 4, 5, 6, 1, 3, 4, 5, 6, 2, 5, 6, 1, 5, 6, 1, 2, 3, 4, 5, 6, 1, 2, 4, 5, 6, 1, 2, 3, 4, 5, 6, 1, 2, 3, 4, 5, 6, 1, 2, 3, 4, 5, 6, 1, 2, 3, 4, 5, 6, 3, 1, 2, 3, 4, 5, 6, 1, 2, 3, 4, 5, 6, 1, 2, 3, 6, 1, 2, 3, 4, 5, 6, 1, 2, 3, 4, 5, 6, 1, 2, 3, 5, 6, 1, 2, 3, 4, 5, 6, 1, 2, 3, 4, 5, 6, 1, 2, 3, 4, 5, 6, 1, 2, 3, 4, 5, 6, 1, 2, 3, 4, 6, 1, 2, 3, 4, 5, 6, 1, 2, 3, 4, 5, 6, 1, 2, 3, 4, 5, 6, 1, 2, 3, 4, 5, 6, 1, 2, 3, 4, 5, 6, 1, 2, 3, 4, 5, 6, 1, 2, 3, 4, 5, 6, 4, 1, 2, 3, 4, 5, 6, 1, 2, 3, 4, 5, 6, 1, 2, 3, 4, 5, 6, 1, 2, 3, 4, 5, 6], \"Freq\": [0.0010145565019276138, 0.0025363912548190346, 0.0005072782509638069, 0.9962944848929168, 0.4300830626482083, 0.5674078300200923, 0.3176926576287991, 0.11544324742004249, 0.3418551977864824, 0.09665016063073324, 0.056379260367927723, 0.07159271157832092, 0.27754934997618086, 0.520644297886353, 0.11867627378291871, 0.05742400344334776, 0.022969601377339104, 0.003828266896223184, 0.3810343959639397, 0.2792737189768835, 0.10150816910371355, 0.1176686736376381, 0.06943966791920703, 0.051006592435199345, 0.11561557105568185, 0.20742793630578216, 0.1677559266298129, 0.16208849667610298, 0.013601831888903747, 0.3326781382827708, 0.03998323657082883, 0.05279837649737653, 0.14557998956558188, 0.0015378167911857242, 0.00820168955299053, 0.7519924108898192, 0.6237084398908918, 0.2371758712843062, 0.059614475755244534, 0.04166603144183758, 0.02115352365508677, 0.01666641257673503, 0.23771815289583312, 0.04301566576210314, 0.06452349864315471, 0.009055929634126976, 0.28639377467926563, 0.35884121175228145, 0.13008503010358205, 0.17727273710194028, 0.04336167670119402, 0.5483976759268656, 0.012753434323880595, 0.0879986968347761, 0.5481336950937775, 0.23830026209658722, 0.09049377041642553, 0.030595512855077202, 0.05645087583119878, 0.035766585450301515, 0.0016598601001314782, 0.004979580300394435, 0.0016598601001314782, 0.9909364797784925, 0.036321882290252044, 0.21964055879046532, 0.08289935487422231, 0.2217771401016566, 0.04358625874830245, 0.39569485883262817, 0.0010376104493173316, 0.9981812522432729, 0.03619278014940254, 0.034619181012471995, 0.34828994230729404, 0.5019781246808439, 0.0031471982738610904, 0.07553275857266617, 0.024663217194703047, 0.0336316598109587, 0.008968442616255654, 0.9114179808769808, 0.021300051213607177, 0.26699812719601457, 0.0021975154501729594, 0.0010987577250864797, 0.37357762652940313, 0.35270122975275997, 0.003296273175259439, 0.06039021508580311, 0.21859556728241408, 0.03997662125398234, 0.6107066821353047, 0.0697464455920543, 0.9078360264169866, 0.05428018095168829, 0.013570045237922072, 0.001357004523792207, 0.01764105880929869, 0.005428018095168828, 0.26068271994446285, 0.41096251804139716, 0.16016662691910105, 0.11139160472974517, 0.04976370507157255, 0.006920780175516712, 0.7137817709020648, 0.09951765075076865, 0.03560329746686982, 0.005576420085172382, 0.042466583725543516, 0.10252033848893839, 0.010765041847904439, 0.14754439709186673, 0.29572203193949254, 0.06838967762198114, 0.018363894917013453, 0.45909737292533637, 0.012008248646044824, 0.041171138215010825, 0.0068618563691684705, 0.7668124492545766, 0.16125362467545906, 0.012008248646044824, 0.9993048099096394, 0.029843260344982008, 0.7023824488336837, 0.13855799445884504, 0.003197492179819501, 0.07141065868263552, 0.05329153633032501, 0.0727562384762824, 0.19167908610618978, 0.19284786102147142, 0.233754983056329, 0.130026209325083, 0.17911475576691208, 0.20353130469887654, 0.1784937235652846, 0.14780249507894605, 0.048459834452113465, 0.008884302982887468, 0.41271625675049967, 0.9950353363157305, 0.0036216026799480634, 0.9749571300269079, 0.006672076167848814, 0.0016680190419622034, 0.01626318565913148, 0.9992580951221882, 0.0003554813572117354, 0.9975978681912908, 0.0018338196106457553, 0.0010136769581557288, 0.673081500215404, 0.05575223269856509, 0.09629931102479425, 0.0912309262340156, 0.08210783361061405, 0.06940003168993295, 0.07645766203128207, 0.34464761500254837, 0.1070407268437949, 0.15762041095679688, 0.24348824677654443, 0.002091685756209264, 0.001045842878104632, 0.001045842878104632, 0.001045842878104632, 0.013595957415360216, 0.9810006196621447, 0.004172696113103445, 0.040638431710224854, 0.20028941342896536, 0.622638828703088, 0.03428867675550222, 0.09796764787286348, 0.00592319632686587, 0.8011123032086089, 0.007403995408582337, 0.09921353847500332, 0.08588634673955511, 0.0010508539072328505, 0.002101707814465701, 0.8553950804875403, 0.011559392979561356, 0.1292550305896406, 0.5217958512600068, 0.06415522761393526, 0.001425671724754117, 0.4091677850044316, 0.002851343449508234, 0.47767024035874145, 0.11472911084828895, 0.3982423943868491, 0.00882531621909915, 0.035703578448184066, 0.19481735196726524, 0.6077369983680027, 0.026389601461701266, 0.019404118721839166, 0.11564854758216143, 0.4650840298593149, 0.23254201492965745, 0.1309238185528677, 0.05252176441946437, 0.005708887436898301, 0.11303597125058636, 0.3091670459477541, 0.48748330896326375, 0.14367929106285668, 0.02822271788734685, 0.006414254065306102, 0.02693986707428563, 0.18840225496120785, 0.030295839993762067, 0.0018934899996101292, 0.7687569398417124, 0.009467449998050647, 0.24182007438968825, 0.525525842957729, 0.08544681612383903, 0.06199082738396165, 0.012844946214694758, 0.07148491806438821, 0.02776915663623307, 0.051095248210668846, 0.0877505349704965, 0.0011107662654493227, 0.03998758555617562, 0.7919763472653671, 0.014744473504916818, 0.001134190269608986, 0.9833429637509908, 0.9854347797098294, 0.012828145061311389, 0.0005830975027868813, 0.0005830975027868813, 0.004212784455970098, 0.0033702275647760783, 0.048025742798059115, 0.9284976940958096, 0.010110682694328235, 0.005897898238358137, 0.0698162334450365, 0.018152220695709487, 0.00139632466890073, 0.9090073594543752, 0.00139632466890073, 0.2816745164720564, 0.35230783653250347, 0.12172976435949388, 0.04272349754416099, 0.18076977352856058, 0.020825021415998072, 0.011884773192678442, 0.8571892665219327, 0.05348147936705299, 0.013370369841763248, 0.03713991622712014, 0.026740739683526495, 0.06363741742011077, 0.6285088754188467, 0.1523007855110516, 0.10224888416939146, 0.01215546175440318, 0.04147157539737555, 0.6641199252119986, 0.1494053927980179, 0.11658802328169027, 0.016408684758163816, 0.004318074936358898, 0.04922605427449144, 0.05554931327771177, 0.007823846940522785, 0.007041462246470506, 0.010171001022679621, 0.8269806216132584, 0.09232139389816886, 0.009353445398695598, 0.07950428588891258, 0.14404305913991222, 0.25675207619419416, 0.22682105091836824, 0.2838770678504114, 0.0007338952213662989, 0.0007338952213662989, 0.011742323541860783, 0.9856212822949395, 0.0007338952213662989, 0.11421216138970673, 0.12459508515240734, 0.4983803406096294, 0.11232435706921572, 0.015102434563928164, 0.13592191107535348, 0.18583841085160574, 0.21726298178278106, 0.33429241835405465, 0.07747782143375982, 0.06176553596817217, 0.12298926898925511, 0.016748893103060762, 0.13527952121702924, 0.010307011140345086, 0.8284260204052363, 0.006441881962715678, 0.0025767527850862715, 0.042031863499534465, 0.7165920142969413, 0.2357885025583641, 0.00205033480485534, 0.00410066960971068, 0.33268339987244344, 0.16604832833139593, 0.02992390369223036, 0.34148454801721706, 0.1038535481083289, 0.025816701224669333, 0.9533352464947786, 0.01299465639583961, 0.0011813323996217827, 0.030714642390166347, 0.0011813323996217827, 0.23950181047672756, 0.28129722446188193, 0.08218199379103396, 0.12491663056237162, 0.053066087419353355, 0.21883890918069615, 0.13669233104583597, 0.045917320506353165, 0.17060050618898906, 0.6354250737763796, 0.007417413312564742, 0.00388531173515296, 0.42150793246439894, 0.17787036866405487, 0.06576719513628919, 0.06377424982912891, 0.2685493801398475, 0.0024911816339503482, 0.1617691421823648, 0.0808845710911824, 0.03742420453472618, 0.047082063769494226, 0.5589486032122007, 0.11347984600852455, 0.9988564455505683, 0.08344656366687081, 0.4144041212609008, 0.09334700342395719, 0.00707174268363312, 0.005657394146906496, 0.39743193882018135, 0.04900046786574813, 0.2468171714719165, 0.4627821965098434, 0.025407650004461994, 0.21596502503792694, 0.09670752643169243, 0.9026035800291294, 0.00146526555199534, 0.4373697066894051, 0.2423701636895616, 0.13602407145842743, 0.08732174657261285, 0.043185264644843395, 0.05383889821361533, 0.2566515799780282, 0.1674760310026116, 0.05220032135146336, 0.11962573643043686, 0.004350026779288613, 0.4002024636945524, 0.44858902127874917, 0.08772090559186986, 0.3337673481056512, 0.04421704184305635, 0.038511617089113596, 0.046356576125784886, 0.17784293642709129, 0.1257405136457169, 0.1490129291547308, 0.34005514601977027, 0.2031994488473602, 0.004168193822509952, 0.31840627433972846, 0.3063238933938013, 0.021321848728106815, 0.34114957964970904, 0.0021321848728106814, 0.009950196073116514, 0.07013848715321294, 0.16450663350480854, 0.10903346639272193, 0.02040392353548013, 0.07460184542659921, 0.5611078972257035, 0.6779122533801011, 0.10429419282770787, 0.007333185433198209, 0.026073548206926967, 0.1841444342114217, 0.0008147983814664677, 0.8380538263490476, 0.04524462375381361, 0.043188049946822085, 0.009254582131461875, 0.03907490233283903, 0.02467888568389833, 0.11334868586465893, 0.1265468205201329, 0.2600808887990462, 0.04347620827685548, 0.4231166698372542, 0.03415987793181502, 0.5027416262125821, 0.15599402904403897, 0.005510658634707899, 0.022890428174940504, 0.30690129627142454, 0.006358452270816806, 0.2942692014508807, 0.463490982423789, 0.19980403054632545, 0.03737830503417653, 0.004757238822531559, 0.3296869332388413, 0.6402615804928222, 0.027075738478552182, 0.9983269959705414, 0.0005886362004543286, 0.24499805287876641, 0.08434830324917061, 0.14527450525538585, 0.061932059114808403, 0.0018680203445301839, 0.4614010250989554, 0.0002712602747295797, 0.5210909877555225, 0.4726710287162926, 0.00013563013736478985, 0.005967726044050753, 0.30558042410456016, 0.16167336391578474, 0.3695391175217937, 0.07195353009438771, 0.026649455590513967, 0.06484700860358399, 0.6193128885553276, 0.15074747829951385, 0.0924968603578758, 0.05232953864537264, 0.02544463805692431, 0.05969088047316207, 0.27977382775780124, 0.02597899829179583, 0.006994345693945031, 0.0009991922419921473, 0.6544709185048565, 0.03147455562275264, 0.671371077441182, 0.15052091771812975, 0.045395197407055006, 0.03066166842406347, 0.08322452857960085, 0.01911376732928632, 0.09767481629929553, 0.5671440946410709, 0.05041280841253963, 0.21582983601618527, 0.06931761156724199, 0.02109396633528703, 0.8020612780975417, 0.07211193142528356, 0.10350760224989682, 0.0009811147132691642, 0.09406344508795804, 0.4832914937277844, 0.2780200347427331, 0.08016244335082139, 0.03197230399541431, 0.03243567071998553, 0.0014242261570325647, 0.9841402745095021, 0.014242261570325645, 0.04067314074052231, 0.42300066370143197, 0.09422610938221, 0.3755486661708226, 0.02372599876530468, 0.04270679777754842, 0.6102491788362446, 0.15154811041374924, 0.06983383290576209, 0.09823099317449521, 0.05882268912809006, 0.011300910719189716, 0.2120323693381534, 0.410103759625235, 0.2281747513659552, 0.12215856669687851, 0.010470734288303871, 0.017451223813839786, 0.4540484291630774, 0.11145505098072246, 0.06956590430340395, 0.21767395862678013, 0.10958499978977075, 0.03777503405722473, 0.3027151618645073, 0.20045567765524422, 0.148648720423399, 0.07517087912071659, 0.11444935649910903, 0.15846833976799712, 0.16767369749647862, 0.15090632774683074, 0.3722356084421825, 0.09054379664809845, 0.16599696052151383, 0.05197884622390837, 0.2748113443870128, 0.049739609843803226, 0.08517908185751302, 0.03668296225980488, 0.0012434902460950806, 0.5524205418277396, 0.01846112947287862, 0.5133952196267197, 0.466802845242788, 0.001758202806940821, 0.29923692436580435, 0.23376511565728036, 0.030758567849642152, 0.08216931696975832, 0.33614720578537494, 0.0175763244855098, 0.3897238917330131, 0.2575588396459488, 0.08376305008933486, 0.0915374649179857, 0.06370004407991334, 0.11360677152834937, 0.0016133518299888663, 0.0008066759149944332, 0.9849512922082029, 0.007260083234949898, 0.004840055489966599, 0.051120572640414176, 0.7196203687073688, 0.2152962578509751, 0.0009830879353925803, 0.007864703483140643, 0.005898527612355481, 0.9996608417868112, 0.20206748237075717, 0.5388466196553524, 0.10608542824464752, 0.08082699294830287, 0.07240751451618799, 0.13423231160551818, 0.13834146400160546, 0.012327457188261873, 0.010957739722899443, 0.7040347771962892, 0.4198668479145395, 0.3068356989369314, 0.12903099198357082, 0.03148356204399128, 0.05522526456896831, 0.05754782242467259, 0.23293382808754762, 0.12138805125689102, 0.09326726718193556, 0.008904914957069226, 0.5239839432633365, 0.01921586911788622, 0.09578276309366024, 0.407076743148056, 0.32465901676513903, 0.10413591103787478, 0.006682518355371645, 0.06125641825757341, 0.2466367563040916, 0.14867355870667204, 0.010948827966770422, 0.3453682927061968, 0.23837711415372093, 0.009988404460913366, 0.03636167739381958, 0.03770840618618327, 0.05925606686400228, 0.028281304639637454, 0.004040186377091065, 0.8349718512654868, 0.011587289210649903, 0.0011587289210649903, 0.004634915684259961, 0.9791259382999168, 0.0023174578421299805, 0.0011748527436870318, 0.8682161775847165, 0.1221846853434513, 0.0011748527436870318, 0.005874263718435159, 0.10695932102541704, 0.014261242803388939, 0.12407281238948377, 0.005704497121355576, 0.7472891228975804, 0.001426124280338894, 0.07347225291338304, 0.7260054821780053, 0.17060506184971994, 0.0018679386333910943, 0.0105849855892162, 0.017434093911650215, 0.31248232252777525, 0.387463195393922, 0.15693887410073143, 0.07051551071034642, 0.04037431615869439, 0.032187818873060506, 0.8283984295524591, 0.06956017347387061, 0.026348550558284323, 0.06956017347387061, 0.006323652133988237, 0.15959824735874306, 0.09316261329074954, 0.18785248253708514, 0.0817081936238541, 0.16494364320329427, 0.3123238429173488, 0.02619110063546872, 0.03880163057106477, 0.07372309808502306, 0.2619110063546872, 0.11737493247747094, 0.48308030060975643, 0.9990092531124919, 0.0006346945699571105, 0.07159927250356318, 0.05049197251696363, 0.3613073115353217, 0.015727007833152604, 0.4142824958154147, 0.08649854308233933, 0.057449136924808165, 0.027259679161660638, 0.228650112594303, 0.12623524322058735, 0.5385697359602859, 0.021909648671988923, 0.652335802643044, 0.16125154672075245, 0.08795538912041043, 0.02931846304013681, 0.015880834146740772, 0.05375051557358415, 0.00011981446566288312, 0.0004792578626515325, 0.00011981446566288312, 0.9990130146971195, 0.00011981446566288312, 0.00011981446566288312, 0.9980750223004081, 0.0005821376624674296, 0.0008732064937011445, 0.9663104233012564, 0.007929862793796946, 0.023789588381390836, 0.00048553656477287995, 0.999234250302587, 0.19312633333561693, 0.25176438922754896, 0.0029173162135289568, 0.04813571752322779, 0.4997362673775103, 0.004375974320293435, 0.9994747220425744, 0.00037017582297873126, 0.06278731858039643, 0.002092910619346548, 0.8308855158805795, 0.004185821238693096, 0.1004597097286343, 0.20482483503522203, 0.030916956231731626, 0.19451918295797815, 0.00901744556758839, 0.012882065096554844, 0.5474877666035809, 0.7109444882424046, 0.18092551413672942, 0.01623690511483469, 0.004639115747095626, 0.08350408344772127, 0.0034793368103217194, 0.8037039948024227, 0.11796046890446517, 0.025164900032952568, 0.033815334419280016, 0.018873675024714428, 0.5864554702651635, 0.10480830693493887, 0.004710485704941073, 0.061825124877351575, 0.23729071738640653, 0.005299296418058707, 0.0923752776798011, 0.07958485461644402, 0.13785233746062625, 0.011369264945206289, 0.15774855111473726, 0.5201438712431877, 0.007854872040508989, 0.28950814092161703, 0.11445670687598812, 0.586871153883743, 0.0011221245772155698, 0.06826974218626652, 0.2363678809656586, 0.025762166862742082, 0.6479184965979634, 0.0045083792009798646, 0.017389462632350906, 0.013839545531030149, 0.02329094247905074, 0.14784685225832206, 0.0621091799441353, 0.47054454805502505, 0.2825292587676155, 0.0008805090227618847, 0.0005870060151745898, 0.9973232197816281, 0.0002935030075872949, 0.0008805090227618847, 0.018670579567692986, 0.05227762278954036, 0.8625807760274159, 0.0012447053045128657, 0.04480939096246316, 0.021159990176718716, 0.0002767122361778039, 0.9994845970742278, 0.00013835611808890195, 0.00013835611808890195, 0.998230009632641, 0.0005460776857946614, 0.0010921553715893227, 0.2558329291758695, 0.2540896042751821, 0.4205771322908246, 0.040968135166152865, 0.009588286953780457, 0.019176573907560914, 0.027182095861200198, 0.001028511735288656, 0.0030855352058659683, 0.002350883966374071, 0.006611861155427075, 0.9596014490243161, 0.024904340750032505, 0.1527029314409888, 0.10092811777644752, 0.07798990919089126, 0.17629651741470379, 0.46728407775718883, 0.7971712347798847, 0.12698730148219847, 0.04490425489674699, 0.013519560614074362, 0.00917398755955046, 0.008208304658545149, 0.022134437035775837, 0.08074642630651024, 0.2091261611140101, 0.06445548064817924, 0.5092691273191304, 0.11439077060088952, 0.4448036212467556, 0.15698951338120787, 0.0732158695447446, 0.18705621842936318, 0.04062447933987397, 0.09731513694975458, 0.1108222597860393, 0.18112885470406423, 0.057198585696020286, 0.07626478092802705, 0.16563757107805874, 0.4099231974881454, 0.006711635390438495, 0.16443506706574312, 0.825531153023935, 0.0033558176952192477, 0.4679618664062863, 0.5296190042098172, 0.264098024575895, 0.7302310379523496, 0.00264098024575895, 0.001320490122879475, 0.2505730088205959, 0.1776450435668404, 0.19011136241363621, 0.02867253334763038, 0.018699478270193727, 0.3347206610364677, 0.5428499063413802, 0.0992249828805811, 0.11287498052552876, 0.06824998822473832, 0.12599997826105536, 0.05092499121384321, 0.1045995526703434, 0.2679740920792607, 0.3865202517723166, 0.21318385020431893, 0.004980931079540162, 0.021916096749976712, 0.1769024878689482, 0.3244534418762324, 0.19475139359563579, 0.1657965020834537, 0.02736832211425432, 0.11026657315598117, 0.12384176175262528, 0.31424847044728665, 0.4164179238932025, 0.001548022021907816, 0.001548022021907816, 0.14241802601551906, 0.000836503068426549, 0.445019632402924, 0.001673006136853098, 0.042661656489754, 0.4935368103716639, 0.01589355830010443, 0.36357709997663756, 0.10257661127867518, 0.001139740125318613, 0.004558960501274452, 0.5276996780225178, 0.026365930958868408, 0.5584450654482545, 0.23216666983225792, 0.15709700529659093, 0.0014647739421593561, 0.024534963531169213, 0.031221507164293952, 0.01647801767004403, 0.05810669388910263, 0.0008672640878970542, 0.4622517588491299, 0.43103025168483594, 0.6259727378921177, 0.13799853539894413, 0.054772614565560304, 0.03485530017808383, 0.14155519868242208, 0.004979328596869118, 0.5183692862715961, 0.08751230973135181, 0.024701055166107367, 0.012350527583053683, 0.3341699891757668, 0.022936694082813982, 0.508395000083209, 0.18159919042842046, 0.05832684703965213, 0.04095289260230894, 0.19235449555629958, 0.0186149511828677, 0.07695393373187849, 0.027160211905368877, 0.000754450330704691, 0.8879880392394214, 0.000754450330704691, 0.006035602645637528, 0.02705467256275709, 0.06312756931309987, 0.0036072896750342785, 0.9036260635960868, 0.0018036448375171393, 0.6570774143333058, 0.1285586245434729, 0.08434534097032083, 0.03809144430917715, 0.02924878759454674, 0.06257880136507675, 0.8341495730075259, 0.04565470867087941, 0.018071655515556433, 0.019973935043509743, 0.04850812796280937, 0.033289891739182904, 0.958139454995831, 0.006672280327269018, 0.004003368196361411, 0.024020209178168463, 0.008006736392722822, 0.2985953874119972, 0.13039099886986777, 0.04433293961575504, 0.059979859480139175, 0.35335960693734164, 0.11474407900548364, 0.8172249635418534, 0.11157684004076965, 0.018093541628232915, 0.01658574649254684, 0.03769487839215191, 0.0015077951356860764, 0.637820820655888, 0.025050364557482007, 0.033721644596610395, 0.009634755599031541, 0.2158185254183065, 0.07707804479225233, 0.22522942528439374, 0.07592003099473946, 0.08098136639438876, 0.013496894399064792, 0.29102678547983457, 0.31211568297837333, 0.4909585811543909, 0.05111349612018316, 0.021521472050603438, 0.021521472050603438, 0.41294324497095347, 0.0026901840063254297, 0.9004145430273212, 0.0028314922736708214, 0.01840469977886034, 0.0014157461368354107, 0.07078730684177054, 0.005662984547341643, 0.3977710603910749, 0.035689083721874584, 0.0019466772939204318, 0.561940845511698, 0.0025955697252272427, 0.14318586713870574, 0.0569293206696059, 0.13110995063303177, 0.07245549903404387, 0.5330654571790371, 0.06382984438713389, 0.9458037732597895, 0.003962864971758895, 0.04755437966110673, 0.0013209549905862982, 0.0013209549905862982, 0.9957173672649032, 0.002071174970909835, 0.0010355874854549175, 0.0005177937427274588, 0.0010355874854549175, 0.004353469433816556, 0.9925910309101748, 0.002902312955877704, 0.0014591957017739575, 0.002918391403547915, 0.995171468609839, 0.1535481877355957, 0.31669313720466613, 0.034461098952022894, 0.28048717248292054, 0.05627192107355637, 0.15834656860233307, 0.2428169185599113, 0.0603830432397663, 0.08736270085753423, 0.589698230788356, 0.019271184012691372, 0.6899712877627808, 0.1602209934019434, 0.08128859224069188, 0.01963492566200287, 0.01335174945016195, 0.03573556470484522, 0.2224355984309631, 0.39000374924895537, 0.18425082070031445, 0.05876007058551276, 0.039111592724111015, 0.10547154625601501, 0.02566092769537315, 0.06367711687370374, 0.0019008094589165296, 0.9047853024442681, 0.0019008094589165296, 0.0019008094589165296, 0.9153010471906746, 0.01535343692061777, 0.0011810336092782899, 0.0011810336092782899, 0.06141374768247108, 0.005905168046391449, 0.9990035201570738, 0.747275025778671, 0.09684221804094963, 0.03902596846426328, 0.024571906070091697, 0.02963082790805175, 0.06215246829493782, 0.3918872794820182, 0.36441653918974093, 0.1721213571437999, 0.03133381314587878, 0.01588152173147281, 0.02446612807280946, 0.1452222918441486, 0.7157384383747323, 0.1371543867416959, 0.001152557871778957, 0.26781053636946933, 0.3229754067698611, 0.10688193640075898, 0.11974131497382327, 0.12523916523332176, 0.05730810016256911, 0.21969123196216964, 0.30383847206084613, 0.16279622303181449, 0.12215693093870368, 0.04972336914921793, 0.1419984676665166, 0.44229064141010127, 0.07117320666369446, 0.006778400634637568, 0.4219554395061886, 0.05761640539441932, 0.2853721973505837, 0.2591674849803485, 0.1713385039592304, 0.1238244650461665, 0.037723267258250724, 0.12238464568516456, 0.0008642042710750162, 0.007777838439675146, 0.04753123490912589, 0.0025926128132250483, 0.6766719442517376, 0.26444650694895494, 0.17696360278598827, 0.09492300532581746, 0.2128987405164763, 0.08000653306033187, 0.0016950536665324548, 0.43325571716569544, 0.5047013176834606, 0.21551114660206167, 0.10084816475609296, 0.08473087815123792, 0.05111482323254026, 0.04282593297861482, 0.27070666137682686, 0.48530831521441503, 0.19075702563341168, 0.02384462820417646, 0.029455128958100332, 0.22899135982882093, 0.18045655075574502, 0.11165587725587943, 0.13953757608509326, 0.3157344228530417, 0.023621994841417266, 0.0654876714642725, 0.10025273162431841, 0.16897436217324635, 0.4252656196321894, 0.1625064440039355, 0.07761501803173038, 0.09127759947176768, 0.14786971114426364, 0.09492870345063838, 0.38701702176029495, 0.0018255519894353534, 0.27565835040473835, 0.1019247621491949, 0.18786132631420235, 0.06595131668477316, 0.27579641522723325, 0.02797934647232801, 0.33775068241595957, 0.1974219172501761, 0.12964039232761565, 0.5060581812179514, 0.03685209122003287, 0.11911122340760626, 0.01118724197750998, 0.3275625240347437, 0.2398602998576994, 0.40998148169509857, 0.01162318633671671, 0.006339919820027297, 0.005283266516689414, 0.011311307826004294, 0.05070586266829511, 0.0003900450974484239, 0.9037344907879982, 0.017552029385179076, 0.016771939190282227, 0.9984437872000733, 0.005129078309396849, 0.038468087320476366, 0.0005129078309396848, 0.9427245932671408, 0.003077446985638109, 0.010258156618793698, 0.06455678157347257, 0.719185198230791, 0.1427044645308341, 0.017366151768302564, 0.005662875576620401, 0.04983330507425953, 0.06963881065138759, 0.6149461076164904, 0.1805887801637678, 0.06963881065138759, 0.003540956473799369, 0.06137657887918906, 0.16386726562431994, 0.14771133802755598, 0.06231572073037518, 0.043851803476930684, 0.5296836262081891, 0.051929767275312656], \"Term\": [\"a\", \"a\", \"a\", \"a\", \"advertised\", \"advertised\", \"all\", \"all\", \"all\", \"all\", \"all\", \"all\", \"already\", \"already\", \"already\", \"already\", \"already\", \"already\", \"also\", \"also\", \"also\", \"also\", \"also\", \"also\", \"always\", \"always\", \"always\", \"always\", \"always\", \"always\", \"amazon\", \"amazon\", \"amazon\", \"amazon\", \"amazon\", \"amazon\", \"around\", \"around\", \"around\", \"around\", \"around\", \"around\", \"arrived\", \"arrived\", \"arrived\", \"arrived\", \"arrived\", \"arrived\", \"awesome\", \"awesome\", \"awesome\", \"awesome\", \"awesome\", \"awesome\", \"back\", \"back\", \"back\", \"back\", \"back\", \"back\", \"beautiful\", \"beautiful\", \"beautiful\", \"beautiful\", \"best\", \"best\", \"best\", \"best\", \"best\", \"best\", \"binder\", \"binder\", \"black\", \"black\", \"black\", \"black\", \"black\", \"black\", \"blue\", \"blue\", \"blue\", \"blue\", \"blue\", \"board\", \"board\", \"board\", \"board\", \"board\", \"board\", \"book\", \"book\", \"book\", \"book\", \"book\", \"bottom\", \"bottom\", \"bottom\", \"bottom\", \"bottom\", \"bottom\", \"bought\", \"bought\", \"bought\", \"bought\", \"bought\", \"bought\", \"box\", \"box\", \"box\", \"box\", \"box\", \"box\", \"brand\", \"brand\", \"brand\", \"brand\", \"brand\", \"brand\", \"bright\", \"bright\", \"bright\", \"bright\", \"bright\", \"bright\", \"brother\", \"business\", \"business\", \"business\", \"business\", \"business\", \"business\", \"buy\", \"buy\", \"buy\", \"buy\", \"buy\", \"buy\", \"came\", \"came\", \"came\", \"came\", \"came\", \"came\", \"canon\", \"canon\", \"card\", \"card\", \"card\", \"card\", \"cartridge\", \"cartridge\", \"cartridges\", \"cartridges\", \"case\", \"case\", \"case\", \"case\", \"case\", \"case\", \"cheaper\", \"cheaper\", \"cheaper\", \"cheaper\", \"cheaper\", \"cheaper\", \"class\", \"class\", \"class\", \"class\", \"class\", \"class\", \"color\", \"color\", \"color\", \"color\", \"color\", \"color\", \"colored\", \"colored\", \"colored\", \"colored\", \"colored\", \"colors\", \"colors\", \"colors\", \"colors\", \"colors\", \"comfortable\", \"comfortable\", \"comfortable\", \"comfortable\", \"comfortable\", \"computer\", \"computer\", \"computer\", \"computer\", \"cost\", \"cost\", \"cost\", \"cost\", \"cost\", \"cost\", \"could\", \"could\", \"could\", \"could\", \"could\", \"could\", \"couple\", \"couple\", \"couple\", \"couple\", \"couple\", \"couple\", \"cover\", \"cover\", \"cover\", \"cover\", \"cover\", \"day\", \"day\", \"day\", \"day\", \"day\", \"day\", \"deal\", \"deal\", \"deal\", \"deal\", \"deal\", \"deal\", \"described\", \"described\", \"described\", \"desk\", \"desk\", \"desk\", \"desk\", \"dry\", \"dry\", \"dry\", \"dry\", \"dry\", \"dry\", \"durable\", \"durable\", \"durable\", \"durable\", \"durable\", \"easy\", \"easy\", \"easy\", \"easy\", \"easy\", \"easy\", \"envelope\", \"envelope\", \"envelope\", \"envelope\", \"envelope\", \"envelope\", \"every\", \"every\", \"every\", \"every\", \"every\", \"every\", \"everything\", \"everything\", \"everything\", \"everything\", \"everything\", \"everything\", \"exactly\", \"exactly\", \"exactly\", \"exactly\", \"exactly\", \"exactly\", \"excellent\", \"excellent\", \"excellent\", \"excellent\", \"excellent\", \"excellent\", \"expected\", \"expected\", \"expected\", \"expected\", \"expected\", \"expensive\", \"expensive\", \"expensive\", \"expensive\", \"expensive\", \"expensive\", \"far\", \"far\", \"far\", \"far\", \"far\", \"far\", \"favorite\", \"favorite\", \"favorite\", \"favorite\", \"favorite\", \"favorite\", \"feature\", \"feature\", \"feature\", \"feature\", \"feature\", \"feel\", \"feel\", \"feel\", \"feel\", \"feel\", \"feel\", \"file\", \"file\", \"file\", \"file\", \"file\", \"find\", \"find\", \"find\", \"find\", \"find\", \"find\", \"fine\", \"fine\", \"fine\", \"fine\", \"fine\", \"fine\", \"fit\", \"fit\", \"fit\", \"fit\", \"fit\", \"fit\", \"for\", \"for\", \"for\", \"for\", \"for\", \"for\", \"fountain\", \"free\", \"free\", \"free\", \"free\", \"free\", \"free\", \"fun\", \"fun\", \"fun\", \"fun\", \"fun\", \"gel\", \"gel\", \"gel\", \"get\", \"get\", \"get\", \"get\", \"get\", \"get\", \"glad\", \"glad\", \"glad\", \"glad\", \"glad\", \"glad\", \"good\", \"good\", \"good\", \"good\", \"good\", \"good\", \"great\", \"great\", \"great\", \"great\", \"great\", \"great\", \"hand\", \"hand\", \"hand\", \"hand\", \"hand\", \"hand\", \"happy\", \"happy\", \"happy\", \"happy\", \"happy\", \"happy\", \"heavy\", \"heavy\", \"heavy\", \"heavy\", \"heavy\", \"heavy\", \"help\", \"help\", \"help\", \"help\", \"help\", \"help\", \"high\", \"high\", \"high\", \"high\", \"high\", \"high\", \"hold\", \"hold\", \"hold\", \"hold\", \"hold\", \"hold\", \"home\", \"home\", \"home\", \"home\", \"home\", \"house\", \"house\", \"house\", \"hp\", \"hp\", \"i\", \"i\", \"i\", \"i\", \"i\", \"i\", \"ink\", \"ink\", \"ink\", \"ink\", \"ink\", \"issue\", \"issue\", \"issue\", \"issue\", \"issue\", \"issue\", \"it\", \"it\", \"it\", \"it\", \"it\", \"it\", \"item\", \"item\", \"item\", \"item\", \"item\", \"item\", \"keep\", \"keep\", \"keep\", \"keep\", \"keep\", \"keep\", \"kid\", \"kid\", \"kid\", \"kid\", \"kid\", \"label\", \"label\", \"label\", \"label\", \"label\", \"last\", \"last\", \"last\", \"last\", \"last\", \"last\", \"lead\", \"lead\", \"lead\", \"line\", \"line\", \"line\", \"line\", \"line\", \"line\", \"little\", \"little\", \"little\", \"little\", \"little\", \"little\", \"long\", \"long\", \"long\", \"long\", \"long\", \"long\", \"look\", \"look\", \"look\", \"look\", \"look\", \"look\", \"lot\", \"lot\", \"lot\", \"lot\", \"lot\", \"lot\", \"low\", \"low\", \"low\", \"low\", \"low\", \"low\", \"m\", \"m\", \"m\", \"m\", \"m\", \"m\", \"machine\", \"machine\", \"machine\", \"machine\", \"made\", \"made\", \"made\", \"made\", \"made\", \"made\", \"make\", \"make\", \"make\", \"make\", \"make\", \"make\", \"marker\", \"marker\", \"marker\", \"marker\", \"marker\", \"month\", \"month\", \"month\", \"month\", \"month\", \"month\", \"mouse\", \"must\", \"must\", \"must\", \"must\", \"must\", \"name\", \"name\", \"name\", \"name\", \"name\", \"need\", \"need\", \"need\", \"need\", \"need\", \"need\", \"needed\", \"needed\", \"needed\", \"needed\", \"needed\", \"needed\", \"new\", \"new\", \"new\", \"new\", \"new\", \"new\", \"nice\", \"nice\", \"nice\", \"nice\", \"nice\", \"nice\", \"normal\", \"normal\", \"normal\", \"normal\", \"normal\", \"normal\", \"notebook\", \"notebook\", \"notebook\", \"notebook\", \"notebook\", \"number\", \"number\", \"number\", \"number\", \"number\", \"ok\", \"ok\", \"ok\", \"ok\", \"ok\", \"ok\", \"old\", \"old\", \"old\", \"old\", \"old\", \"old\", \"one\", \"one\", \"one\", \"one\", \"one\", \"one\", \"open\", \"open\", \"open\", \"open\", \"open\", \"order\", \"order\", \"order\", \"order\", \"order\", \"order\", \"pack\", \"pack\", \"pack\", \"pack\", \"pack\", \"pack\", \"pad\", \"pad\", \"page\", \"page\", \"page\", \"page\", \"page\", \"page\", \"paper\", \"paper\", \"paper\", \"paper\", \"paper\", \"paper\", \"part\", \"part\", \"part\", \"part\", \"part\", \"part\", \"pen\", \"pen\", \"pen\", \"pen\", \"pen\", \"pen\", \"pencil\", \"pencil\", \"pencil\", \"pencils\", \"pencils\", \"pencils\", \"pens\", \"pens\", \"perfect\", \"perfect\", \"perfect\", \"perfect\", \"perfect\", \"perfect\", \"phone\", \"phone\", \"photo\", \"photo\", \"photo\", \"photo\", \"photo\", \"picture\", \"picture\", \"picture\", \"picture\", \"picture\", \"picture\", \"piece\", \"piece\", \"piece\", \"piece\", \"piece\", \"piece\", \"place\", \"place\", \"place\", \"place\", \"place\", \"plastic\", \"plastic\", \"plastic\", \"plastic\", \"plastic\", \"plastic\", \"pleased\", \"pleased\", \"pleased\", \"pleased\", \"pleased\", \"pleased\", \"pocket\", \"pocket\", \"pocket\", \"pocket\", \"pocket\", \"point\", \"point\", \"point\", \"point\", \"point\", \"point\", \"price\", \"price\", \"price\", \"price\", \"price\", \"price\", \"print\", \"print\", \"print\", \"print\", \"print\", \"printed\", \"printed\", \"printed\", \"printed\", \"printed\", \"printed\", \"printer\", \"printer\", \"printer\", \"printer\", \"printing\", \"printing\", \"printing\", \"problem\", \"problem\", \"problem\", \"problem\", \"problem\", \"problem\", \"product\", \"product\", \"product\", \"product\", \"product\", \"product\", \"purchase\", \"purchase\", \"purchase\", \"purchase\", \"purchase\", \"purchase\", \"put\", \"put\", \"put\", \"put\", \"put\", \"put\", \"quality\", \"quality\", \"quality\", \"quality\", \"quality\", \"quality\", \"really\", \"really\", \"really\", \"really\", \"really\", \"really\", \"received\", \"received\", \"received\", \"received\", \"received\", \"received\", \"refill\", \"refill\", \"refill\", \"refill\", \"replace\", \"replace\", \"replacement\", \"replacement\", \"replacement\", \"replacement\", \"review\", \"review\", \"review\", \"review\", \"review\", \"review\", \"right\", \"right\", \"right\", \"right\", \"right\", \"right\", \"run\", \"run\", \"run\", \"run\", \"run\", \"run\", \"s\", \"s\", \"s\", \"s\", \"s\", \"s\", \"save\", \"save\", \"save\", \"save\", \"save\", \"save\", \"school\", \"school\", \"school\", \"school\", \"school\", \"school\", \"service\", \"service\", \"service\", \"service\", \"service\", \"set\", \"set\", \"set\", \"set\", \"set\", \"set\", \"shipping\", \"shipping\", \"shipping\", \"shipping\", \"shipping\", \"shipping\", \"side\", \"side\", \"side\", \"side\", \"side\", \"side\", \"size\", \"size\", \"size\", \"size\", \"size\", \"size\", \"small\", \"small\", \"small\", \"small\", \"small\", \"small\", \"smooth\", \"smooth\", \"smooth\", \"smooth\", \"smooth\", \"smooth\", \"smoothly\", \"smoothly\", \"smoothly\", \"smoothly\", \"smoothly\", \"something\", \"something\", \"something\", \"something\", \"something\", \"something\", \"space\", \"space\", \"space\", \"space\", \"space\", \"space\", \"stand\", \"stand\", \"stand\", \"stand\", \"stand\", \"standard\", \"standard\", \"standard\", \"standard\", \"standard\", \"standard\", \"stay\", \"stay\", \"stay\", \"stay\", \"stay\", \"stay\", \"stick\", \"stick\", \"stick\", \"stick\", \"stick\", \"stick\", \"store\", \"store\", \"store\", \"store\", \"store\", \"store\", \"strong\", \"strong\", \"strong\", \"strong\", \"strong\", \"strong\", \"stuff\", \"stuff\", \"stuff\", \"stuff\", \"stuff\", \"stuff\", \"sturdy\", \"sturdy\", \"sturdy\", \"sturdy\", \"sturdy\", \"supply\", \"supply\", \"supply\", \"supply\", \"supply\", \"supply\", \"surface\", \"surface\", \"surface\", \"surface\", \"surface\", \"tape\", \"tape\", \"tape\", \"tape\", \"tape\", \"thank\", \"thank\", \"thank\", \"thanks\", \"thanks\", \"thanks\", \"them\", \"them\", \"them\", \"them\", \"them\", \"them\", \"thick\", \"thick\", \"thick\", \"thick\", \"thick\", \"thing\", \"thing\", \"thing\", \"thing\", \"thing\", \"thing\", \"time\", \"time\", \"time\", \"time\", \"time\", \"time\", \"tip\", \"tip\", \"tip\", \"tip\", \"tip\", \"tip\", \"together\", \"together\", \"together\", \"together\", \"together\", \"together\", \"toner\", \"top\", \"top\", \"top\", \"top\", \"top\", \"top\", \"two\", \"two\", \"two\", \"two\", \"two\", \"two\", \"unit\", \"unit\", \"unit\", \"unit\", \"use\", \"use\", \"use\", \"use\", \"use\", \"use\", \"used\", \"used\", \"used\", \"used\", \"used\", \"used\", \"useful\", \"useful\", \"useful\", \"useful\", \"useful\", \"using\", \"using\", \"using\", \"using\", \"using\", \"using\", \"value\", \"value\", \"value\", \"value\", \"value\", \"value\", \"ve\", \"ve\", \"ve\", \"ve\", \"ve\", \"ve\", \"want\", \"want\", \"want\", \"want\", \"want\", \"want\", \"week\", \"week\", \"week\", \"week\", \"week\", \"well\", \"well\", \"well\", \"well\", \"well\", \"well\", \"white\", \"white\", \"white\", \"white\", \"white\", \"white\", \"with\", \"with\", \"with\", \"with\", \"with\", \"with\", \"wonderful\", \"wonderful\", \"wonderful\", \"wonderful\", \"wonderful\", \"wonderful\", \"worked\", \"worked\", \"worked\", \"worked\", \"worked\", \"worked\", \"working\", \"working\", \"working\", \"working\", \"working\", \"working\", \"write\", \"write\", \"write\", \"write\", \"write\", \"write\", \"writes\", \"writing\", \"writing\", \"writing\", \"writing\", \"writing\", \"writing\", \"year\", \"year\", \"year\", \"year\", \"year\", \"year\", \"years\", \"years\", \"years\", \"years\", \"years\", \"years\", \"you\", \"you\", \"you\", \"you\", \"you\", \"you\"]}, \"R\": 30, \"lambda.step\": 0.01, \"plot.opts\": {\"xlab\": \"PC1\", \"ylab\": \"PC2\"}, \"topic.order\": [4, 3, 6, 2, 1, 5]};\n",
       "\n",
       "function LDAvis_load_lib(url, callback){\n",
       "  var s = document.createElement('script');\n",
       "  s.src = url;\n",
       "  s.async = true;\n",
       "  s.onreadystatechange = s.onload = callback;\n",
       "  s.onerror = function(){console.warn(\"failed to load library \" + url);};\n",
       "  document.getElementsByTagName(\"head\")[0].appendChild(s);\n",
       "}\n",
       "\n",
       "if(typeof(LDAvis) !== \"undefined\"){\n",
       "   // already loaded: just create the visualization\n",
       "   !function(LDAvis){\n",
       "       new LDAvis(\"#\" + \"ldavis_el1694015139648103121963684722\", ldavis_el1694015139648103121963684722_data);\n",
       "   }(LDAvis);\n",
       "}else if(typeof define === \"function\" && define.amd){\n",
       "   // require.js is available: use it to load d3/LDAvis\n",
       "   require.config({paths: {d3: \"https://d3js.org/d3.v5\"}});\n",
       "   require([\"d3\"], function(d3){\n",
       "      window.d3 = d3;\n",
       "      LDAvis_load_lib(\"https://cdn.jsdelivr.net/gh/bmabey/pyLDAvis@3.3.1/pyLDAvis/js/ldavis.v3.0.0.js\", function(){\n",
       "        new LDAvis(\"#\" + \"ldavis_el1694015139648103121963684722\", ldavis_el1694015139648103121963684722_data);\n",
       "      });\n",
       "    });\n",
       "}else{\n",
       "    // require.js not available: dynamically load d3 & LDAvis\n",
       "    LDAvis_load_lib(\"https://d3js.org/d3.v5.js\", function(){\n",
       "         LDAvis_load_lib(\"https://cdn.jsdelivr.net/gh/bmabey/pyLDAvis@3.3.1/pyLDAvis/js/ldavis.v3.0.0.js\", function(){\n",
       "                 new LDAvis(\"#\" + \"ldavis_el1694015139648103121963684722\", ldavis_el1694015139648103121963684722_data);\n",
       "            })\n",
       "         });\n",
       "}\n",
       "</script>"
      ],
      "text/plain": [
       "PreparedData(topic_coordinates=              x         y  topics  cluster       Freq\n",
       "topic                                                \n",
       "3      0.046795 -0.000650       1        1  26.784652\n",
       "2     -0.015502  0.001714       2        1  20.672371\n",
       "5     -0.083447  0.030487       3        1  16.243094\n",
       "1     -0.106827 -0.169053       4        1  13.901627\n",
       "0      0.212615 -0.030361       5        1  11.583921\n",
       "4     -0.053634  0.167862       6        1  10.814336, topic_info=        Term         Freq         Total Category  logprob  loglift\n",
       "95       pen  8346.000000   8346.000000  Default  30.0000  30.0000\n",
       "107  product  6805.000000   6805.000000  Default  29.0000  29.0000\n",
       "238  printer  7227.000000   7227.000000  Default  28.0000  28.0000\n",
       "169      ink  7372.000000   7372.000000  Default  27.0000  27.0000\n",
       "31     paper  7850.000000   7850.000000  Default  26.0000  26.0000\n",
       "..       ...          ...           ...      ...      ...      ...\n",
       "22      time   568.571918   5394.819932   Topic6  -4.6765  -0.0258\n",
       "276     find   465.590098   2129.420229   Topic6  -4.8763   0.7040\n",
       "81       use   614.805287  10731.467249   Topic6  -4.5983  -0.6353\n",
       "205    color   539.733853   5512.023732   Topic6  -4.7286  -0.0993\n",
       "27       lot   467.959937   2953.271301   Topic6  -4.8712   0.3820\n",
       "\n",
       "[298 rows x 6 columns], token_table=      Topic      Freq        Term\n",
       "term                             \n",
       "230       1  0.001015           a\n",
       "230       3  0.002536           a\n",
       "230       5  0.000507           a\n",
       "230       6  0.996294           a\n",
       "117       1  0.430083  advertised\n",
       "...     ...       ...         ...\n",
       "145       2  0.147711         you\n",
       "145       3  0.062316         you\n",
       "145       4  0.043852         you\n",
       "145       5  0.529684         you\n",
       "145       6  0.051930         you\n",
       "\n",
       "[1132 rows x 3 columns], R=30, lambda_step=0.01, plot_opts={'xlab': 'PC1', 'ylab': 'PC2'}, topic_order=[4, 3, 6, 2, 1, 5])"
      ]
     },
     "execution_count": 28,
     "metadata": {},
     "output_type": "execute_result"
    }
   ],
   "source": [
    "pyLDAvis.enable_notebook()\n",
    "\n",
    "lda_vis = pyLDAvis.gensim_models.prepare(lda, corpus=doc_term_matrix, dictionary=dictionary)\n",
    "lda_vis"
   ]
  },
  {
   "cell_type": "code",
   "execution_count": null,
   "metadata": {
    "id": "T4gwSdlRVZOb",
    "outputId": "87d37218-8e1c-4b6d-be84-8a6f39cf1919"
   },
   "outputs": [
    {
     "data": {
      "text/plain": [
       "[(0, 0.05000345),\n",
       " (1, 0.050003793),\n",
       " (2, 0.5499322),\n",
       " (3, 0.05001506),\n",
       " (4, 0.050013926),\n",
       " (5, 0.050006714),\n",
       " (6, 0.050005414),\n",
       " (7, 0.050003156),\n",
       " (8, 0.050008506),\n",
       " (9, 0.050007798)]"
      ]
     },
     "execution_count": 23,
     "metadata": {},
     "output_type": "execute_result"
    }
   ],
   "source": [
    "lda[doc_term_matrix[5]]"
   ]
  },
  {
   "cell_type": "code",
   "execution_count": null,
   "metadata": {
    "id": "XJuTWAuqVZOb",
    "outputId": "fe9e524a-aa16-496b-bb5f-c7f24659dfef"
   },
   "outputs": [
    {
     "name": "stdout",
     "output_type": "stream",
     "text": [
      "[(7, 1), (22, 1), (84, 1), (92, 1), (102, 1), (103, 1), (174, 1), (178, 1), (179, 1), (188, 1), (204, 1), (217, 1), (334, 1), (346, 1)]\n"
     ]
    }
   ],
   "source": [
    "print(doc_term_matrix[-1])"
   ]
  },
  {
   "cell_type": "code",
   "execution_count": null,
   "metadata": {
    "id": "gy476sIwVZOb",
    "outputId": "f95f641d-6bc2-4033-e5fa-3dfbc46d9bdf"
   },
   "outputs": [
    {
     "name": "stdout",
     "output_type": "stream",
     "text": [
      "['marker', 'write', 'bold', 'beautiful', 'color', 'last', 'long', 'time', 'quick', 'drying', 'others', 'keep', 'set', 'hand', 'always', 'cannot', 'beat']\n"
     ]
    }
   ],
   "source": [
    "print(reviews[-1])"
   ]
  },
  {
   "cell_type": "code",
   "execution_count": null,
   "metadata": {
    "id": "7cxUfAxVVZOc",
    "outputId": "5feb580a-507e-40c6-8695-2b46b55b7494"
   },
   "outputs": [
    {
     "name": "stdout",
     "output_type": "stream",
     "text": [
      "13\n",
      "40\n"
     ]
    },
    {
     "data": {
      "text/plain": [
       "(None, None)"
      ]
     },
     "execution_count": 26,
     "metadata": {},
     "output_type": "execute_result"
    }
   ],
   "source": [
    "print(len(doc_term_matrix[2])), print(len(reviews[2]))"
   ]
  },
  {
   "cell_type": "markdown",
   "metadata": {
    "id": "txslJRDkVZOc"
   },
   "source": [
    "### Compiling the likelihood of each topic per review in order to understand which topics are present in each review. \n",
    "https://towardsdatascience.com/the-complete-guide-for-topics-extraction-in-python-a6aaa6cedbbc"
   ]
  },
  {
   "cell_type": "code",
   "execution_count": 41,
   "metadata": {
    "id": "gw0Oa-NhVZOc"
   },
   "outputs": [],
   "source": [
    "def topics_document_to_dataframe(topics_document, num_topics):\n",
    "    res = pd.DataFrame(columns=range(num_topics))\n",
    "    for topic_weight in topics_document:\n",
    "        res.loc[0, topic_weight[0]] = topic_weight[1]\n",
    "    return res"
   ]
  },
  {
   "cell_type": "code",
   "execution_count": 42,
   "metadata": {
    "id": "QZtdRH5hVZOd"
   },
   "outputs": [],
   "source": [
    "topics = [lda[doc_term_matrix[i]] for i in range(len(office_prods))]"
   ]
  },
  {
   "cell_type": "code",
   "execution_count": 43,
   "metadata": {
    "id": "BI4jWRVLVZOd"
   },
   "outputs": [],
   "source": [
    "# Like TF-IDF, create a matrix of topic weighting, with documents as rows and topics as columns\n",
    "document_topic = \\\n",
    "pd.concat([topics_document_to_dataframe(topics_document, num_topics=6) for topics_document in topics]) \\\n",
    "  .reset_index(drop=True).fillna(0)"
   ]
  },
  {
   "cell_type": "code",
   "execution_count": 44,
   "metadata": {},
   "outputs": [],
   "source": [
    "office_prods_with_topics = office_prods.join(document_topic)\n",
    "\n",
    "office_prods_with_topics_mean_agg = office_prods_with_topics.groupby(['asin']).mean()"
   ]
  },
  {
   "cell_type": "code",
   "execution_count": 45,
   "metadata": {},
   "outputs": [
    {
     "data": {
      "text/html": [
       "<div>\n",
       "<style scoped>\n",
       "    .dataframe tbody tr th:only-of-type {\n",
       "        vertical-align: middle;\n",
       "    }\n",
       "\n",
       "    .dataframe tbody tr th {\n",
       "        vertical-align: top;\n",
       "    }\n",
       "\n",
       "    .dataframe thead th {\n",
       "        text-align: right;\n",
       "    }\n",
       "</style>\n",
       "<table border=\"1\" class=\"dataframe\">\n",
       "  <thead>\n",
       "    <tr style=\"text-align: right;\">\n",
       "      <th></th>\n",
       "      <th>overall</th>\n",
       "      <th>verified</th>\n",
       "      <th>unixReviewTime</th>\n",
       "      <th>topic</th>\n",
       "      <th>0</th>\n",
       "      <th>1</th>\n",
       "      <th>2</th>\n",
       "      <th>3</th>\n",
       "      <th>4</th>\n",
       "      <th>5</th>\n",
       "    </tr>\n",
       "    <tr>\n",
       "      <th>asin</th>\n",
       "      <th></th>\n",
       "      <th></th>\n",
       "      <th></th>\n",
       "      <th></th>\n",
       "      <th></th>\n",
       "      <th></th>\n",
       "      <th></th>\n",
       "      <th></th>\n",
       "      <th></th>\n",
       "      <th></th>\n",
       "    </tr>\n",
       "  </thead>\n",
       "  <tbody>\n",
       "    <tr>\n",
       "      <th>0310806607</th>\n",
       "      <td>5.0</td>\n",
       "      <td>1.0</td>\n",
       "      <td>1.405339e+09</td>\n",
       "      <td>2.0</td>\n",
       "      <td>0.448751</td>\n",
       "      <td>0.041717</td>\n",
       "      <td>0.072058</td>\n",
       "      <td>0.157751</td>\n",
       "      <td>0.235958</td>\n",
       "      <td>0.041669</td>\n",
       "    </tr>\n",
       "    <tr>\n",
       "      <th>0310806615</th>\n",
       "      <td>5.0</td>\n",
       "      <td>1.0</td>\n",
       "      <td>1.485043e+09</td>\n",
       "      <td>0.0</td>\n",
       "      <td>0.484712</td>\n",
       "      <td>0.033573</td>\n",
       "      <td>0.380810</td>\n",
       "      <td>0.033742</td>\n",
       "      <td>0.033555</td>\n",
       "      <td>0.033607</td>\n",
       "    </tr>\n",
       "    <tr>\n",
       "      <th>0310821800</th>\n",
       "      <td>5.0</td>\n",
       "      <td>1.0</td>\n",
       "      <td>1.476230e+09</td>\n",
       "      <td>1.5</td>\n",
       "      <td>0.537763</td>\n",
       "      <td>0.020995</td>\n",
       "      <td>0.020988</td>\n",
       "      <td>0.204289</td>\n",
       "      <td>0.120677</td>\n",
       "      <td>0.095289</td>\n",
       "    </tr>\n",
       "    <tr>\n",
       "      <th>0439499887</th>\n",
       "      <td>5.0</td>\n",
       "      <td>0.8</td>\n",
       "      <td>1.476697e+09</td>\n",
       "      <td>3.0</td>\n",
       "      <td>0.062585</td>\n",
       "      <td>0.062359</td>\n",
       "      <td>0.355265</td>\n",
       "      <td>0.161984</td>\n",
       "      <td>0.295414</td>\n",
       "      <td>0.062394</td>\n",
       "    </tr>\n",
       "    <tr>\n",
       "      <th>0439505399</th>\n",
       "      <td>5.0</td>\n",
       "      <td>1.0</td>\n",
       "      <td>1.383523e+09</td>\n",
       "      <td>3.0</td>\n",
       "      <td>0.218943</td>\n",
       "      <td>0.012944</td>\n",
       "      <td>0.217089</td>\n",
       "      <td>0.525190</td>\n",
       "      <td>0.012920</td>\n",
       "      <td>0.012912</td>\n",
       "    </tr>\n",
       "  </tbody>\n",
       "</table>\n",
       "</div>"
      ],
      "text/plain": [
       "            overall  verified  unixReviewTime  topic         0         1  \\\n",
       "asin                                                                       \n",
       "0310806607      5.0       1.0    1.405339e+09    2.0  0.448751  0.041717   \n",
       "0310806615      5.0       1.0    1.485043e+09    0.0  0.484712  0.033573   \n",
       "0310821800      5.0       1.0    1.476230e+09    1.5  0.537763  0.020995   \n",
       "0439499887      5.0       0.8    1.476697e+09    3.0  0.062585  0.062359   \n",
       "0439505399      5.0       1.0    1.383523e+09    3.0  0.218943  0.012944   \n",
       "\n",
       "                   2         3         4         5  \n",
       "asin                                                \n",
       "0310806607  0.072058  0.157751  0.235958  0.041669  \n",
       "0310806615  0.380810  0.033742  0.033555  0.033607  \n",
       "0310821800  0.020988  0.204289  0.120677  0.095289  \n",
       "0439499887  0.355265  0.161984  0.295414  0.062394  \n",
       "0439505399  0.217089  0.525190  0.012920  0.012912  "
      ]
     },
     "execution_count": 45,
     "metadata": {},
     "output_type": "execute_result"
    }
   ],
   "source": [
    "office_prods_with_topics_mean_agg.head()"
   ]
  },
  {
   "cell_type": "markdown",
   "metadata": {
    "id": "uGkksXMlVZOd"
   },
   "source": [
    "### Looking at the share of topics within the documents as a whole\n",
    "https://towardsdatascience.com/the-complete-guide-for-topics-extraction-in-python-a6aaa6cedbbc"
   ]
  },
  {
   "cell_type": "code",
   "execution_count": null,
   "metadata": {
    "id": "vLMYkaT_VZOd",
    "outputId": "9dbace46-7a33-4167-b48d-e61f4c0cb29d"
   },
   "outputs": [
    {
     "data": {
      "text/plain": [
       "<matplotlib.axes._subplots.AxesSubplot at 0x7fbfe9a92460>"
      ]
     },
     "execution_count": 30,
     "metadata": {},
     "output_type": "execute_result"
    },
    {
     "data": {
      "image/png": "[encoded data removed]",
      "text/plain": [
       "<Figure size 720x360 with 1 Axes>"
      ]
     },
     "metadata": {},
     "output_type": "display_data"
    }
   ],
   "source": [
    "%matplotlib inline\n",
    "sns.set(rc={'figure.figsize':(10,5)})\n",
    "document_topic.idxmax(axis=1).value_counts().plot.bar(color='midnightblue')"
   ]
  },
  {
   "cell_type": "code",
   "execution_count": null,
   "metadata": {
    "id": "nCtp2DZ9VZOd",
    "outputId": "079e19c6-8f67-490d-9720-0d50954ce5e7"
   },
   "outputs": [
    {
     "data": {
      "image/png": "[encoded data removed]",
      "text/plain": [
       "<Figure size 432x288 with 1 Axes>"
      ]
     },
     "metadata": {
      "needs_background": "light"
     },
     "output_type": "display_data"
    }
   ],
   "source": [
    "#  ---- LSA with Gensim ----\n",
    "\n",
    "#  convert the tokenized reviews into a list of lists\n",
    "reviews = reviews_tokens.tolist()\n",
    "\n",
    "#  create a dictionary out of it\n",
    "dictionary = corpora.Dictionary(reviews)\n",
    "dictionary.filter_extremes(no_below=min_df)\n",
    "\n",
    "#  create a doc-term matrix\n",
    "doc_term_matrix = [dictionary.doc2bow(doc) for doc in reviews]\n",
    "\n",
    "#  create a gensim LSA model\n",
    "n_topics = 10\n",
    "\n",
    "#  get coherence scores to get the optimum number of topics\n",
    "coherence_vals = []\n",
    "\n",
    "for topic in range(2, n_topics):\n",
    "    #  run an LSA model for each topic value\n",
    "    model = LsiModel(doc_term_matrix, num_topics=topic, id2word=dictionary)\n",
    "    #  create a coherence model\n",
    "    coherence_model = CoherenceModel(model=model, texts=reviews, dictionary=dictionary, coherence='c_v')\n",
    "    coherence_vals.append(coherence_model.get_coherence())\n",
    "\n",
    "x = range(2, n_topics)\n",
    "%matplotlib inline\n",
    "plt.plot(x, coherence_vals)\n",
    "plt.xlabel(\"Number of Topics\")\n",
    "plt.ylabel(\"Coherence Values\")\n",
    "plt.title('Ideal Number of Topics - Coherence Score')\n",
    "plt.show()\n"
   ]
  },
  {
   "cell_type": "markdown",
   "metadata": {
    "id": "NsJFY3__VZOe"
   },
   "source": [
    "### With ideal number of topics decided, in this case 4, we can then prescribe labels to the word vectors below"
   ]
  },
  {
   "cell_type": "code",
   "execution_count": null,
   "metadata": {
    "id": "8GMQhH2EVZOe",
    "outputId": "e62d99c2-3b68-46d1-c496-209a2b4892d1"
   },
   "outputs": [
    {
     "name": "stdout",
     "output_type": "stream",
     "text": [
      "(0, '0.346*\"printer\" + 0.259*\"one\" + 0.245*\"ink\" + 0.227*\"use\" + 0.225*\"paper\" + 0.179*\"print\" + 0.173*\"pen\" + 0.141*\"color\" + 0.123*\"it\" + 0.121*\"time\"')\n",
      "(1, '0.597*\"pen\" + -0.575*\"printer\" + -0.247*\"print\" + -0.133*\"printing\" + -0.100*\"cartridge\" + 0.098*\"writing\" + 0.086*\"use\" + -0.085*\"hp\" + 0.084*\"pens\" + 0.080*\"write\"')\n",
      "(2, '-0.499*\"ink\" + -0.475*\"pen\" + -0.285*\"printer\" + 0.181*\"one\" + 0.173*\"phone\" + 0.163*\"use\" + -0.142*\"print\" + -0.124*\"cartridge\" + 0.100*\"product\" + 0.098*\"scanner\"')\n",
      "(3, '-0.507*\"a\" + -0.312*\"link\" + -0.185*\"product\" + -0.168*\"class\" + -0.164*\"nbsp\" + -0.157*\"d\" + -0.156*\"data\" + -0.155*\"ref\" + -0.155*\"dp\" + -0.154*\"normal\"')\n"
     ]
    }
   ],
   "source": [
    "#  Keep the number of topics as 4\n",
    "lsa = LsiModel(doc_term_matrix, num_topics=4, id2word=dictionary)\n",
    "\n",
    "topics = lsa.print_topics(num_topics=4, num_words=10)\n",
    "\n",
    "for topic in topics:\n",
    "    print(topic)"
   ]
  }
 ],
 "metadata": {
  "colab": {
   "name": "Project_1.7_Cluster_EDA_Topic_Modeling.ipynb",
   "provenance": []
  },
  "kernelspec": {
   "display_name": "Python 3",
   "language": "python",
   "name": "python3"
  },
  "language_info": {
   "codemirror_mode": {
    "name": "ipython",
    "version": 3
   },
   "file_extension": ".py",
   "mimetype": "text/x-python",
   "name": "python",
   "nbconvert_exporter": "python",
   "pygments_lexer": "ipython3",
   "version": "3.7.3"
  }
 },
 "nbformat": 4,
 "nbformat_minor": 1
}
